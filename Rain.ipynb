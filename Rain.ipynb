{
 "cells": [
  {
   "cell_type": "code",
   "execution_count": 1,
   "metadata": {
    "ExecuteTime": {
     "end_time": "2019-02-18T02:47:05.342418Z",
     "start_time": "2019-02-18T02:46:41.268701Z"
    }
   },
   "outputs": [],
   "source": [
    "import numpy as np\n",
    "import pandas as pd\n",
    "import scipy\n",
    "import matplotlib.pyplot as plt\n",
    "import matplotlib\n",
    "import sklearn"
   ]
  },
  {
   "cell_type": "markdown",
   "metadata": {},
   "source": [
    "# Reading in the data"
   ]
  },
  {
   "cell_type": "code",
   "execution_count": 235,
   "metadata": {
    "ExecuteTime": {
     "end_time": "2019-02-18T14:37:28.701701Z",
     "start_time": "2019-02-18T14:37:28.631644Z"
    },
    "scrolled": true
   },
   "outputs": [
    {
     "data": {
      "text/html": [
       "<div>\n",
       "<style scoped>\n",
       "    .dataframe tbody tr th:only-of-type {\n",
       "        vertical-align: middle;\n",
       "    }\n",
       "\n",
       "    .dataframe tbody tr th {\n",
       "        vertical-align: top;\n",
       "    }\n",
       "\n",
       "    .dataframe thead th {\n",
       "        text-align: right;\n",
       "    }\n",
       "</style>\n",
       "<table border=\"1\" class=\"dataframe\">\n",
       "  <thead>\n",
       "    <tr style=\"text-align: right;\">\n",
       "      <th></th>\n",
       "      <th>time</th>\n",
       "      <th>sss</th>\n",
       "      <th>sst</th>\n",
       "      <th>precip</th>\n",
       "      <th>wind_spd</th>\n",
       "      <th>wind_dir</th>\n",
       "      <th>cum_precip3</th>\n",
       "      <th>cum_precip6</th>\n",
       "    </tr>\n",
       "  </thead>\n",
       "  <tbody>\n",
       "    <tr>\n",
       "      <th>0</th>\n",
       "      <td>735126.854167</td>\n",
       "      <td>37.768</td>\n",
       "      <td>27.887</td>\n",
       "      <td>0.0</td>\n",
       "      <td>3.1715</td>\n",
       "      <td>-70.403</td>\n",
       "      <td>NaN</td>\n",
       "      <td>NaN</td>\n",
       "    </tr>\n",
       "    <tr>\n",
       "      <th>1</th>\n",
       "      <td>735126.895833</td>\n",
       "      <td>37.767</td>\n",
       "      <td>27.794</td>\n",
       "      <td>0.0</td>\n",
       "      <td>3.5116</td>\n",
       "      <td>-78.652</td>\n",
       "      <td>NaN</td>\n",
       "      <td>NaN</td>\n",
       "    </tr>\n",
       "    <tr>\n",
       "      <th>2</th>\n",
       "      <td>735126.937500</td>\n",
       "      <td>37.768</td>\n",
       "      <td>27.718</td>\n",
       "      <td>0.0</td>\n",
       "      <td>4.8705</td>\n",
       "      <td>-86.660</td>\n",
       "      <td>0.0</td>\n",
       "      <td>NaN</td>\n",
       "    </tr>\n",
       "    <tr>\n",
       "      <th>3</th>\n",
       "      <td>735126.979167</td>\n",
       "      <td>37.769</td>\n",
       "      <td>27.651</td>\n",
       "      <td>0.0</td>\n",
       "      <td>4.5117</td>\n",
       "      <td>-89.874</td>\n",
       "      <td>0.0</td>\n",
       "      <td>NaN</td>\n",
       "    </tr>\n",
       "    <tr>\n",
       "      <th>4</th>\n",
       "      <td>735127.020833</td>\n",
       "      <td>37.770</td>\n",
       "      <td>27.593</td>\n",
       "      <td>0.0</td>\n",
       "      <td>4.3185</td>\n",
       "      <td>-94.404</td>\n",
       "      <td>0.0</td>\n",
       "      <td>NaN</td>\n",
       "    </tr>\n",
       "  </tbody>\n",
       "</table>\n",
       "</div>"
      ],
      "text/plain": [
       "            time     sss     sst  precip  wind_spd  wind_dir  cum_precip3  \\\n",
       "0  735126.854167  37.768  27.887     0.0    3.1715   -70.403          NaN   \n",
       "1  735126.895833  37.767  27.794     0.0    3.5116   -78.652          NaN   \n",
       "2  735126.937500  37.768  27.718     0.0    4.8705   -86.660          0.0   \n",
       "3  735126.979167  37.769  27.651     0.0    4.5117   -89.874          0.0   \n",
       "4  735127.020833  37.770  27.593     0.0    4.3185   -94.404          0.0   \n",
       "\n",
       "   cum_precip6  \n",
       "0          NaN  \n",
       "1          NaN  \n",
       "2          NaN  \n",
       "3          NaN  \n",
       "4          NaN  "
      ]
     },
     "execution_count": 235,
     "metadata": {},
     "output_type": "execute_result"
    }
   ],
   "source": [
    "# import the data \n",
    "# spurs 1 & 2 data\n",
    "spurs1 = pd.read_csv('spurs1_data.csv')\n",
    "spurs2 = pd.read_csv('spurs2_data.csv')\n",
    "spurs1.head(5)"
   ]
  },
  {
   "cell_type": "markdown",
   "metadata": {},
   "source": [
    "sss = sea surface salinity //\n",
    "sst = sea surface temperature"
   ]
  },
  {
   "cell_type": "code",
   "execution_count": 236,
   "metadata": {
    "ExecuteTime": {
     "end_time": "2019-02-18T14:37:34.253364Z",
     "start_time": "2019-02-18T14:37:34.247440Z"
    }
   },
   "outputs": [],
   "source": [
    "# this is a helper function for converting the time number to datetime\n",
    "from datetime import datetime, timedelta\n",
    "\n",
    "def datenum_to_datetime(datenum):\n",
    "    \"\"\"\n",
    "    Convert Matlab datenum into Python datetime.\n",
    "    :param datenum: Date in datenum format\n",
    "    :return:        Datetime object corresponding to datenum.\n",
    "    \"\"\"\n",
    "    days = datenum % 1\n",
    "    return datetime.fromordinal(int(datenum)) \\\n",
    "           + timedelta(days=days) \\\n",
    "           - timedelta(days=366)"
   ]
  },
  {
   "cell_type": "code",
   "execution_count": 237,
   "metadata": {
    "ExecuteTime": {
     "end_time": "2019-02-18T14:37:34.465934Z",
     "start_time": "2019-02-18T14:37:34.395679Z"
    }
   },
   "outputs": [],
   "source": [
    "# filtering out variables that we don't really care about\n",
    "# spurs1\n",
    "spurs1['datetime'] = spurs1['time'].apply(datenum_to_datetime)\n",
    "spurs1 = spurs1.set_index('datetime')\n",
    "spurs1 = spurs1.fillna(0)\n",
    "\n",
    "# spurs2\n",
    "spurs2['datetime'] = spurs2['time'].apply(datenum_to_datetime)\n",
    "spurs2 = spurs2.set_index('datetime')\n",
    "spurs2 = spurs2.fillna(0)"
   ]
  },
  {
   "cell_type": "code",
   "execution_count": 238,
   "metadata": {
    "ExecuteTime": {
     "end_time": "2019-02-18T14:37:34.569935Z",
     "start_time": "2019-02-18T14:37:34.543568Z"
    }
   },
   "outputs": [
    {
     "data": {
      "text/html": [
       "<div>\n",
       "<style scoped>\n",
       "    .dataframe tbody tr th:only-of-type {\n",
       "        vertical-align: middle;\n",
       "    }\n",
       "\n",
       "    .dataframe tbody tr th {\n",
       "        vertical-align: top;\n",
       "    }\n",
       "\n",
       "    .dataframe thead th {\n",
       "        text-align: right;\n",
       "    }\n",
       "</style>\n",
       "<table border=\"1\" class=\"dataframe\">\n",
       "  <thead>\n",
       "    <tr style=\"text-align: right;\">\n",
       "      <th></th>\n",
       "      <th>time</th>\n",
       "      <th>sss</th>\n",
       "      <th>sst</th>\n",
       "      <th>precip</th>\n",
       "      <th>wind_spd</th>\n",
       "      <th>wind_dir</th>\n",
       "      <th>cum_precip3</th>\n",
       "      <th>cum_precip6</th>\n",
       "    </tr>\n",
       "    <tr>\n",
       "      <th>datetime</th>\n",
       "      <th></th>\n",
       "      <th></th>\n",
       "      <th></th>\n",
       "      <th></th>\n",
       "      <th></th>\n",
       "      <th></th>\n",
       "      <th></th>\n",
       "      <th></th>\n",
       "    </tr>\n",
       "  </thead>\n",
       "  <tbody>\n",
       "    <tr>\n",
       "      <th>2012-09-14 20:30:00.000027</th>\n",
       "      <td>735126.854167</td>\n",
       "      <td>37.768</td>\n",
       "      <td>27.887</td>\n",
       "      <td>0.0</td>\n",
       "      <td>3.1715</td>\n",
       "      <td>-70.403</td>\n",
       "      <td>0.0</td>\n",
       "      <td>0.0</td>\n",
       "    </tr>\n",
       "    <tr>\n",
       "      <th>2012-09-14 21:29:59.999973</th>\n",
       "      <td>735126.895833</td>\n",
       "      <td>37.767</td>\n",
       "      <td>27.794</td>\n",
       "      <td>0.0</td>\n",
       "      <td>3.5116</td>\n",
       "      <td>-78.652</td>\n",
       "      <td>0.0</td>\n",
       "      <td>0.0</td>\n",
       "    </tr>\n",
       "    <tr>\n",
       "      <th>2012-09-14 22:30:00.000000</th>\n",
       "      <td>735126.937500</td>\n",
       "      <td>37.768</td>\n",
       "      <td>27.718</td>\n",
       "      <td>0.0</td>\n",
       "      <td>4.8705</td>\n",
       "      <td>-86.660</td>\n",
       "      <td>0.0</td>\n",
       "      <td>0.0</td>\n",
       "    </tr>\n",
       "    <tr>\n",
       "      <th>2012-09-14 23:30:00.000027</th>\n",
       "      <td>735126.979167</td>\n",
       "      <td>37.769</td>\n",
       "      <td>27.651</td>\n",
       "      <td>0.0</td>\n",
       "      <td>4.5117</td>\n",
       "      <td>-89.874</td>\n",
       "      <td>0.0</td>\n",
       "      <td>0.0</td>\n",
       "    </tr>\n",
       "    <tr>\n",
       "      <th>2012-09-15 00:29:59.999973</th>\n",
       "      <td>735127.020833</td>\n",
       "      <td>37.770</td>\n",
       "      <td>27.593</td>\n",
       "      <td>0.0</td>\n",
       "      <td>4.3185</td>\n",
       "      <td>-94.404</td>\n",
       "      <td>0.0</td>\n",
       "      <td>0.0</td>\n",
       "    </tr>\n",
       "  </tbody>\n",
       "</table>\n",
       "</div>"
      ],
      "text/plain": [
       "                                     time     sss     sst  precip  wind_spd  \\\n",
       "datetime                                                                      \n",
       "2012-09-14 20:30:00.000027  735126.854167  37.768  27.887     0.0    3.1715   \n",
       "2012-09-14 21:29:59.999973  735126.895833  37.767  27.794     0.0    3.5116   \n",
       "2012-09-14 22:30:00.000000  735126.937500  37.768  27.718     0.0    4.8705   \n",
       "2012-09-14 23:30:00.000027  735126.979167  37.769  27.651     0.0    4.5117   \n",
       "2012-09-15 00:29:59.999973  735127.020833  37.770  27.593     0.0    4.3185   \n",
       "\n",
       "                            wind_dir  cum_precip3  cum_precip6  \n",
       "datetime                                                        \n",
       "2012-09-14 20:30:00.000027   -70.403          0.0          0.0  \n",
       "2012-09-14 21:29:59.999973   -78.652          0.0          0.0  \n",
       "2012-09-14 22:30:00.000000   -86.660          0.0          0.0  \n",
       "2012-09-14 23:30:00.000027   -89.874          0.0          0.0  \n",
       "2012-09-15 00:29:59.999973   -94.404          0.0          0.0  "
      ]
     },
     "execution_count": 238,
     "metadata": {},
     "output_type": "execute_result"
    }
   ],
   "source": [
    "spurs1.head()"
   ]
  },
  {
   "cell_type": "code",
   "execution_count": 239,
   "metadata": {
    "ExecuteTime": {
     "end_time": "2019-02-18T14:37:34.734987Z",
     "start_time": "2019-02-18T14:37:34.692908Z"
    }
   },
   "outputs": [
    {
     "data": {
      "text/html": [
       "<div>\n",
       "<style scoped>\n",
       "    .dataframe tbody tr th:only-of-type {\n",
       "        vertical-align: middle;\n",
       "    }\n",
       "\n",
       "    .dataframe tbody tr th {\n",
       "        vertical-align: top;\n",
       "    }\n",
       "\n",
       "    .dataframe thead th {\n",
       "        text-align: right;\n",
       "    }\n",
       "</style>\n",
       "<table border=\"1\" class=\"dataframe\">\n",
       "  <thead>\n",
       "    <tr style=\"text-align: right;\">\n",
       "      <th></th>\n",
       "      <th>time</th>\n",
       "      <th>sss</th>\n",
       "      <th>sst</th>\n",
       "      <th>precip</th>\n",
       "      <th>wind_spd</th>\n",
       "      <th>wind_dir</th>\n",
       "      <th>cum_precip3</th>\n",
       "      <th>cum_precip6</th>\n",
       "    </tr>\n",
       "  </thead>\n",
       "  <tbody>\n",
       "    <tr>\n",
       "      <th>count</th>\n",
       "      <td>9133.000000</td>\n",
       "      <td>9133.000000</td>\n",
       "      <td>9133.000000</td>\n",
       "      <td>9133.000000</td>\n",
       "      <td>9133.000000</td>\n",
       "      <td>9133.000000</td>\n",
       "      <td>9133.000000</td>\n",
       "      <td>9133.000000</td>\n",
       "    </tr>\n",
       "    <tr>\n",
       "      <th>mean</th>\n",
       "      <td>735317.104167</td>\n",
       "      <td>37.452372</td>\n",
       "      <td>24.785664</td>\n",
       "      <td>0.077950</td>\n",
       "      <td>5.669038</td>\n",
       "      <td>-40.574314</td>\n",
       "      <td>0.233851</td>\n",
       "      <td>0.467702</td>\n",
       "    </tr>\n",
       "    <tr>\n",
       "      <th>std</th>\n",
       "      <td>109.858931</td>\n",
       "      <td>0.111018</td>\n",
       "      <td>1.445302</td>\n",
       "      <td>0.889279</td>\n",
       "      <td>2.228806</td>\n",
       "      <td>133.370685</td>\n",
       "      <td>1.838531</td>\n",
       "      <td>2.846771</td>\n",
       "    </tr>\n",
       "    <tr>\n",
       "      <th>min</th>\n",
       "      <td>735126.854167</td>\n",
       "      <td>35.780000</td>\n",
       "      <td>22.538000</td>\n",
       "      <td>0.000000</td>\n",
       "      <td>0.074492</td>\n",
       "      <td>-180.000000</td>\n",
       "      <td>0.000000</td>\n",
       "      <td>0.000000</td>\n",
       "    </tr>\n",
       "    <tr>\n",
       "      <th>25%</th>\n",
       "      <td>735221.979167</td>\n",
       "      <td>37.397000</td>\n",
       "      <td>23.514000</td>\n",
       "      <td>0.000000</td>\n",
       "      <td>4.142100</td>\n",
       "      <td>-160.590000</td>\n",
       "      <td>0.000000</td>\n",
       "      <td>0.000000</td>\n",
       "    </tr>\n",
       "    <tr>\n",
       "      <th>50%</th>\n",
       "      <td>735317.104167</td>\n",
       "      <td>37.443000</td>\n",
       "      <td>24.405000</td>\n",
       "      <td>0.000000</td>\n",
       "      <td>5.821600</td>\n",
       "      <td>-112.730000</td>\n",
       "      <td>0.000000</td>\n",
       "      <td>0.000000</td>\n",
       "    </tr>\n",
       "    <tr>\n",
       "      <th>75%</th>\n",
       "      <td>735412.229167</td>\n",
       "      <td>37.523000</td>\n",
       "      <td>26.071000</td>\n",
       "      <td>0.000000</td>\n",
       "      <td>7.255400</td>\n",
       "      <td>91.897000</td>\n",
       "      <td>0.000000</td>\n",
       "      <td>0.000000</td>\n",
       "    </tr>\n",
       "    <tr>\n",
       "      <th>max</th>\n",
       "      <td>735507.354167</td>\n",
       "      <td>37.815000</td>\n",
       "      <td>30.005000</td>\n",
       "      <td>35.375000</td>\n",
       "      <td>15.390000</td>\n",
       "      <td>179.990000</td>\n",
       "      <td>49.564000</td>\n",
       "      <td>51.790000</td>\n",
       "    </tr>\n",
       "  </tbody>\n",
       "</table>\n",
       "</div>"
      ],
      "text/plain": [
       "                time          sss          sst       precip     wind_spd  \\\n",
       "count    9133.000000  9133.000000  9133.000000  9133.000000  9133.000000   \n",
       "mean   735317.104167    37.452372    24.785664     0.077950     5.669038   \n",
       "std       109.858931     0.111018     1.445302     0.889279     2.228806   \n",
       "min    735126.854167    35.780000    22.538000     0.000000     0.074492   \n",
       "25%    735221.979167    37.397000    23.514000     0.000000     4.142100   \n",
       "50%    735317.104167    37.443000    24.405000     0.000000     5.821600   \n",
       "75%    735412.229167    37.523000    26.071000     0.000000     7.255400   \n",
       "max    735507.354167    37.815000    30.005000    35.375000    15.390000   \n",
       "\n",
       "          wind_dir  cum_precip3  cum_precip6  \n",
       "count  9133.000000  9133.000000  9133.000000  \n",
       "mean    -40.574314     0.233851     0.467702  \n",
       "std     133.370685     1.838531     2.846771  \n",
       "min    -180.000000     0.000000     0.000000  \n",
       "25%    -160.590000     0.000000     0.000000  \n",
       "50%    -112.730000     0.000000     0.000000  \n",
       "75%      91.897000     0.000000     0.000000  \n",
       "max     179.990000    49.564000    51.790000  "
      ]
     },
     "execution_count": 239,
     "metadata": {},
     "output_type": "execute_result"
    }
   ],
   "source": [
    "spurs1.describe()"
   ]
  },
  {
   "cell_type": "code",
   "execution_count": 240,
   "metadata": {
    "ExecuteTime": {
     "end_time": "2019-02-18T14:37:34.871349Z",
     "start_time": "2019-02-18T14:37:34.841279Z"
    }
   },
   "outputs": [
    {
     "data": {
      "text/html": [
       "<div>\n",
       "<style scoped>\n",
       "    .dataframe tbody tr th:only-of-type {\n",
       "        vertical-align: middle;\n",
       "    }\n",
       "\n",
       "    .dataframe tbody tr th {\n",
       "        vertical-align: top;\n",
       "    }\n",
       "\n",
       "    .dataframe thead th {\n",
       "        text-align: right;\n",
       "    }\n",
       "</style>\n",
       "<table border=\"1\" class=\"dataframe\">\n",
       "  <thead>\n",
       "    <tr style=\"text-align: right;\">\n",
       "      <th></th>\n",
       "      <th>time</th>\n",
       "      <th>sss</th>\n",
       "      <th>sst</th>\n",
       "      <th>precip</th>\n",
       "      <th>wind_spd</th>\n",
       "      <th>wind_dir</th>\n",
       "      <th>cum_precip3</th>\n",
       "      <th>cum_precip6</th>\n",
       "    </tr>\n",
       "    <tr>\n",
       "      <th>datetime</th>\n",
       "      <th></th>\n",
       "      <th></th>\n",
       "      <th></th>\n",
       "      <th></th>\n",
       "      <th></th>\n",
       "      <th></th>\n",
       "      <th></th>\n",
       "      <th></th>\n",
       "    </tr>\n",
       "  </thead>\n",
       "  <tbody>\n",
       "    <tr>\n",
       "      <th>2016-08-24 02:30:00.000027</th>\n",
       "      <td>736566.104167</td>\n",
       "      <td>32.786</td>\n",
       "      <td>29.973</td>\n",
       "      <td>0.000</td>\n",
       "      <td>1.4993</td>\n",
       "      <td>-35.280</td>\n",
       "      <td>0.000</td>\n",
       "      <td>0.0</td>\n",
       "    </tr>\n",
       "    <tr>\n",
       "      <th>2016-08-24 03:29:59.999973</th>\n",
       "      <td>736566.145833</td>\n",
       "      <td>32.790</td>\n",
       "      <td>30.089</td>\n",
       "      <td>0.000</td>\n",
       "      <td>2.2012</td>\n",
       "      <td>-44.300</td>\n",
       "      <td>0.000</td>\n",
       "      <td>0.0</td>\n",
       "    </tr>\n",
       "    <tr>\n",
       "      <th>2016-08-24 04:30:00.000000</th>\n",
       "      <td>736566.187500</td>\n",
       "      <td>32.628</td>\n",
       "      <td>29.630</td>\n",
       "      <td>10.613</td>\n",
       "      <td>4.6946</td>\n",
       "      <td>-80.636</td>\n",
       "      <td>10.613</td>\n",
       "      <td>0.0</td>\n",
       "    </tr>\n",
       "    <tr>\n",
       "      <th>2016-08-24 05:30:00.000027</th>\n",
       "      <td>736566.229167</td>\n",
       "      <td>32.606</td>\n",
       "      <td>29.367</td>\n",
       "      <td>1.210</td>\n",
       "      <td>1.3395</td>\n",
       "      <td>141.610</td>\n",
       "      <td>11.823</td>\n",
       "      <td>0.0</td>\n",
       "    </tr>\n",
       "    <tr>\n",
       "      <th>2016-08-24 06:29:59.999973</th>\n",
       "      <td>736566.270833</td>\n",
       "      <td>32.607</td>\n",
       "      <td>29.310</td>\n",
       "      <td>0.000</td>\n",
       "      <td>1.8056</td>\n",
       "      <td>100.850</td>\n",
       "      <td>11.823</td>\n",
       "      <td>0.0</td>\n",
       "    </tr>\n",
       "  </tbody>\n",
       "</table>\n",
       "</div>"
      ],
      "text/plain": [
       "                                     time     sss     sst  precip  wind_spd  \\\n",
       "datetime                                                                      \n",
       "2016-08-24 02:30:00.000027  736566.104167  32.786  29.973   0.000    1.4993   \n",
       "2016-08-24 03:29:59.999973  736566.145833  32.790  30.089   0.000    2.2012   \n",
       "2016-08-24 04:30:00.000000  736566.187500  32.628  29.630  10.613    4.6946   \n",
       "2016-08-24 05:30:00.000027  736566.229167  32.606  29.367   1.210    1.3395   \n",
       "2016-08-24 06:29:59.999973  736566.270833  32.607  29.310   0.000    1.8056   \n",
       "\n",
       "                            wind_dir  cum_precip3  cum_precip6  \n",
       "datetime                                                        \n",
       "2016-08-24 02:30:00.000027   -35.280        0.000          0.0  \n",
       "2016-08-24 03:29:59.999973   -44.300        0.000          0.0  \n",
       "2016-08-24 04:30:00.000000   -80.636       10.613          0.0  \n",
       "2016-08-24 05:30:00.000027   141.610       11.823          0.0  \n",
       "2016-08-24 06:29:59.999973   100.850       11.823          0.0  "
      ]
     },
     "execution_count": 240,
     "metadata": {},
     "output_type": "execute_result"
    }
   ],
   "source": [
    "spurs2.head()"
   ]
  },
  {
   "cell_type": "code",
   "execution_count": 241,
   "metadata": {
    "ExecuteTime": {
     "end_time": "2019-02-18T14:37:35.402531Z",
     "start_time": "2019-02-18T14:37:35.359410Z"
    }
   },
   "outputs": [
    {
     "data": {
      "text/html": [
       "<div>\n",
       "<style scoped>\n",
       "    .dataframe tbody tr th:only-of-type {\n",
       "        vertical-align: middle;\n",
       "    }\n",
       "\n",
       "    .dataframe tbody tr th {\n",
       "        vertical-align: top;\n",
       "    }\n",
       "\n",
       "    .dataframe thead th {\n",
       "        text-align: right;\n",
       "    }\n",
       "</style>\n",
       "<table border=\"1\" class=\"dataframe\">\n",
       "  <thead>\n",
       "    <tr style=\"text-align: right;\">\n",
       "      <th></th>\n",
       "      <th>time</th>\n",
       "      <th>sss</th>\n",
       "      <th>sst</th>\n",
       "      <th>precip</th>\n",
       "      <th>wind_spd</th>\n",
       "      <th>wind_dir</th>\n",
       "      <th>cum_precip3</th>\n",
       "      <th>cum_precip6</th>\n",
       "    </tr>\n",
       "  </thead>\n",
       "  <tbody>\n",
       "    <tr>\n",
       "      <th>count</th>\n",
       "      <td>10549.000000</td>\n",
       "      <td>10549.000000</td>\n",
       "      <td>10549.000000</td>\n",
       "      <td>10549.000000</td>\n",
       "      <td>10549.000000</td>\n",
       "      <td>10549.000000</td>\n",
       "      <td>10549.000000</td>\n",
       "      <td>10549.000000</td>\n",
       "    </tr>\n",
       "    <tr>\n",
       "      <th>mean</th>\n",
       "      <td>736785.854167</td>\n",
       "      <td>33.424089</td>\n",
       "      <td>27.866035</td>\n",
       "      <td>0.373377</td>\n",
       "      <td>5.759879</td>\n",
       "      <td>-44.430068</td>\n",
       "      <td>1.120131</td>\n",
       "      <td>2.237017</td>\n",
       "    </tr>\n",
       "    <tr>\n",
       "      <th>std</th>\n",
       "      <td>126.890764</td>\n",
       "      <td>0.670906</td>\n",
       "      <td>0.617159</td>\n",
       "      <td>1.920202</td>\n",
       "      <td>2.243319</td>\n",
       "      <td>107.404721</td>\n",
       "      <td>4.370231</td>\n",
       "      <td>7.026789</td>\n",
       "    </tr>\n",
       "    <tr>\n",
       "      <th>min</th>\n",
       "      <td>736566.104167</td>\n",
       "      <td>30.702000</td>\n",
       "      <td>26.631000</td>\n",
       "      <td>0.000000</td>\n",
       "      <td>0.007352</td>\n",
       "      <td>-179.940000</td>\n",
       "      <td>0.000000</td>\n",
       "      <td>0.000000</td>\n",
       "    </tr>\n",
       "    <tr>\n",
       "      <th>25%</th>\n",
       "      <td>736675.979167</td>\n",
       "      <td>32.920000</td>\n",
       "      <td>27.266000</td>\n",
       "      <td>0.000000</td>\n",
       "      <td>4.205600</td>\n",
       "      <td>-138.350000</td>\n",
       "      <td>0.000000</td>\n",
       "      <td>0.000000</td>\n",
       "    </tr>\n",
       "    <tr>\n",
       "      <th>50%</th>\n",
       "      <td>736785.854167</td>\n",
       "      <td>33.362000</td>\n",
       "      <td>27.999000</td>\n",
       "      <td>0.000000</td>\n",
       "      <td>6.112300</td>\n",
       "      <td>-107.220000</td>\n",
       "      <td>0.000000</td>\n",
       "      <td>0.000000</td>\n",
       "    </tr>\n",
       "    <tr>\n",
       "      <th>75%</th>\n",
       "      <td>736895.729167</td>\n",
       "      <td>34.073000</td>\n",
       "      <td>28.323000</td>\n",
       "      <td>0.000000</td>\n",
       "      <td>7.506100</td>\n",
       "      <td>56.607000</td>\n",
       "      <td>0.065015</td>\n",
       "      <td>0.539890</td>\n",
       "    </tr>\n",
       "    <tr>\n",
       "      <th>max</th>\n",
       "      <td>737005.604167</td>\n",
       "      <td>34.398000</td>\n",
       "      <td>30.499000</td>\n",
       "      <td>45.404000</td>\n",
       "      <td>12.202000</td>\n",
       "      <td>179.930000</td>\n",
       "      <td>91.435000</td>\n",
       "      <td>110.530000</td>\n",
       "    </tr>\n",
       "  </tbody>\n",
       "</table>\n",
       "</div>"
      ],
      "text/plain": [
       "                time           sss           sst        precip      wind_spd  \\\n",
       "count   10549.000000  10549.000000  10549.000000  10549.000000  10549.000000   \n",
       "mean   736785.854167     33.424089     27.866035      0.373377      5.759879   \n",
       "std       126.890764      0.670906      0.617159      1.920202      2.243319   \n",
       "min    736566.104167     30.702000     26.631000      0.000000      0.007352   \n",
       "25%    736675.979167     32.920000     27.266000      0.000000      4.205600   \n",
       "50%    736785.854167     33.362000     27.999000      0.000000      6.112300   \n",
       "75%    736895.729167     34.073000     28.323000      0.000000      7.506100   \n",
       "max    737005.604167     34.398000     30.499000     45.404000     12.202000   \n",
       "\n",
       "           wind_dir   cum_precip3   cum_precip6  \n",
       "count  10549.000000  10549.000000  10549.000000  \n",
       "mean     -44.430068      1.120131      2.237017  \n",
       "std      107.404721      4.370231      7.026789  \n",
       "min     -179.940000      0.000000      0.000000  \n",
       "25%     -138.350000      0.000000      0.000000  \n",
       "50%     -107.220000      0.000000      0.000000  \n",
       "75%       56.607000      0.065015      0.539890  \n",
       "max      179.930000     91.435000    110.530000  "
      ]
     },
     "execution_count": 241,
     "metadata": {},
     "output_type": "execute_result"
    }
   ],
   "source": [
    "spurs2.describe()"
   ]
  },
  {
   "cell_type": "code",
   "execution_count": 242,
   "metadata": {
    "ExecuteTime": {
     "end_time": "2019-02-18T14:37:36.536677Z",
     "start_time": "2019-02-18T14:37:36.515261Z"
    }
   },
   "outputs": [
    {
     "data": {
      "text/html": [
       "<div>\n",
       "<style scoped>\n",
       "    .dataframe tbody tr th:only-of-type {\n",
       "        vertical-align: middle;\n",
       "    }\n",
       "\n",
       "    .dataframe tbody tr th {\n",
       "        vertical-align: top;\n",
       "    }\n",
       "\n",
       "    .dataframe thead th {\n",
       "        text-align: right;\n",
       "    }\n",
       "</style>\n",
       "<table border=\"1\" class=\"dataframe\">\n",
       "  <thead>\n",
       "    <tr style=\"text-align: right;\">\n",
       "      <th></th>\n",
       "      <th>time</th>\n",
       "      <th>sss</th>\n",
       "      <th>sst</th>\n",
       "      <th>precip</th>\n",
       "      <th>wind_spd</th>\n",
       "      <th>wind_dir</th>\n",
       "      <th>cum_precip3</th>\n",
       "      <th>cum_precip6</th>\n",
       "    </tr>\n",
       "  </thead>\n",
       "  <tbody>\n",
       "    <tr>\n",
       "      <th>time</th>\n",
       "      <td>1.000000</td>\n",
       "      <td>0.198050</td>\n",
       "      <td>0.246370</td>\n",
       "      <td>-0.016691</td>\n",
       "      <td>-0.084186</td>\n",
       "      <td>0.009089</td>\n",
       "      <td>-0.021917</td>\n",
       "      <td>-0.026306</td>\n",
       "    </tr>\n",
       "    <tr>\n",
       "      <th>sss</th>\n",
       "      <td>0.198050</td>\n",
       "      <td>1.000000</td>\n",
       "      <td>-0.452434</td>\n",
       "      <td>-0.160745</td>\n",
       "      <td>0.424844</td>\n",
       "      <td>-0.572238</td>\n",
       "      <td>-0.223558</td>\n",
       "      <td>-0.262026</td>\n",
       "    </tr>\n",
       "    <tr>\n",
       "      <th>sst</th>\n",
       "      <td>0.246370</td>\n",
       "      <td>-0.452434</td>\n",
       "      <td>1.000000</td>\n",
       "      <td>0.012091</td>\n",
       "      <td>-0.451183</td>\n",
       "      <td>0.363262</td>\n",
       "      <td>0.005854</td>\n",
       "      <td>0.005522</td>\n",
       "    </tr>\n",
       "    <tr>\n",
       "      <th>precip</th>\n",
       "      <td>-0.016691</td>\n",
       "      <td>-0.160745</td>\n",
       "      <td>0.012091</td>\n",
       "      <td>1.000000</td>\n",
       "      <td>-0.043303</td>\n",
       "      <td>0.088515</td>\n",
       "      <td>0.723873</td>\n",
       "      <td>0.534377</td>\n",
       "    </tr>\n",
       "    <tr>\n",
       "      <th>wind_spd</th>\n",
       "      <td>-0.084186</td>\n",
       "      <td>0.424844</td>\n",
       "      <td>-0.451183</td>\n",
       "      <td>-0.043303</td>\n",
       "      <td>1.000000</td>\n",
       "      <td>-0.303017</td>\n",
       "      <td>-0.057860</td>\n",
       "      <td>-0.060240</td>\n",
       "    </tr>\n",
       "    <tr>\n",
       "      <th>wind_dir</th>\n",
       "      <td>0.009089</td>\n",
       "      <td>-0.572238</td>\n",
       "      <td>0.363262</td>\n",
       "      <td>0.088515</td>\n",
       "      <td>-0.303017</td>\n",
       "      <td>1.000000</td>\n",
       "      <td>0.118139</td>\n",
       "      <td>0.154891</td>\n",
       "    </tr>\n",
       "    <tr>\n",
       "      <th>cum_precip3</th>\n",
       "      <td>-0.021917</td>\n",
       "      <td>-0.223558</td>\n",
       "      <td>0.005854</td>\n",
       "      <td>0.723873</td>\n",
       "      <td>-0.057860</td>\n",
       "      <td>0.118139</td>\n",
       "      <td>1.000000</td>\n",
       "      <td>0.803213</td>\n",
       "    </tr>\n",
       "    <tr>\n",
       "      <th>cum_precip6</th>\n",
       "      <td>-0.026306</td>\n",
       "      <td>-0.262026</td>\n",
       "      <td>0.005522</td>\n",
       "      <td>0.534377</td>\n",
       "      <td>-0.060240</td>\n",
       "      <td>0.154891</td>\n",
       "      <td>0.803213</td>\n",
       "      <td>1.000000</td>\n",
       "    </tr>\n",
       "  </tbody>\n",
       "</table>\n",
       "</div>"
      ],
      "text/plain": [
       "                 time       sss       sst    precip  wind_spd  wind_dir  \\\n",
       "time         1.000000  0.198050  0.246370 -0.016691 -0.084186  0.009089   \n",
       "sss          0.198050  1.000000 -0.452434 -0.160745  0.424844 -0.572238   \n",
       "sst          0.246370 -0.452434  1.000000  0.012091 -0.451183  0.363262   \n",
       "precip      -0.016691 -0.160745  0.012091  1.000000 -0.043303  0.088515   \n",
       "wind_spd    -0.084186  0.424844 -0.451183 -0.043303  1.000000 -0.303017   \n",
       "wind_dir     0.009089 -0.572238  0.363262  0.088515 -0.303017  1.000000   \n",
       "cum_precip3 -0.021917 -0.223558  0.005854  0.723873 -0.057860  0.118139   \n",
       "cum_precip6 -0.026306 -0.262026  0.005522  0.534377 -0.060240  0.154891   \n",
       "\n",
       "             cum_precip3  cum_precip6  \n",
       "time           -0.021917    -0.026306  \n",
       "sss            -0.223558    -0.262026  \n",
       "sst             0.005854     0.005522  \n",
       "precip          0.723873     0.534377  \n",
       "wind_spd       -0.057860    -0.060240  \n",
       "wind_dir        0.118139     0.154891  \n",
       "cum_precip3     1.000000     0.803213  \n",
       "cum_precip6     0.803213     1.000000  "
      ]
     },
     "execution_count": 242,
     "metadata": {},
     "output_type": "execute_result"
    }
   ],
   "source": [
    "spurs2.corr()"
   ]
  },
  {
   "cell_type": "markdown",
   "metadata": {},
   "source": [
    "From what we know, it seems like our predictors are sss, sst, wind_spd, and wind_dir. We want factors that are measurable using satellite data."
   ]
  },
  {
   "cell_type": "markdown",
   "metadata": {},
   "source": [
    "For the sake of brevity, I will only be looking at SPURS2 unless there are any pronounced successes. "
   ]
  },
  {
   "cell_type": "markdown",
   "metadata": {},
   "source": [
    "# Tensorflow Time-Series Prediction\n",
    "\n",
    "https://www.youtube.com/watch?v=6f67zrH-_IE \n",
    "<br>\n",
    "https://github.com/jdb3750/TensorFlow-Tutorials/blob/master/23_Time-Series-Prediction.ipynb"
   ]
  },
  {
   "cell_type": "markdown",
   "metadata": {},
   "source": [
    "## Imports and data exploration"
   ]
  },
  {
   "cell_type": "code",
   "execution_count": 105,
   "metadata": {
    "ExecuteTime": {
     "end_time": "2019-02-18T03:01:00.254535Z",
     "start_time": "2019-02-18T03:01:00.235600Z"
    }
   },
   "outputs": [],
   "source": [
    "%matplotlib inline\n",
    "import matplotlib.pyplot as plt\n",
    "import tensorflow as tf\n",
    "import numpy as np\n",
    "import pandas as pd\n",
    "import os\n",
    "from sklearn.preprocessing import MinMaxScaler"
   ]
  },
  {
   "cell_type": "code",
   "execution_count": 106,
   "metadata": {
    "ExecuteTime": {
     "end_time": "2019-02-18T03:01:00.437588Z",
     "start_time": "2019-02-18T03:01:00.434711Z"
    }
   },
   "outputs": [],
   "source": [
    "# from tf.keras.models import Sequential  # This does not work!\n",
    "from tensorflow.python.keras.models import Sequential\n",
    "from tensorflow.python.keras.layers import Input, Dense, GRU, Embedding\n",
    "from tensorflow.python.keras.optimizers import RMSprop\n",
    "from tensorflow.python.keras.callbacks import EarlyStopping, ModelCheckpoint, TensorBoard, ReduceLROnPlateau"
   ]
  },
  {
   "cell_type": "code",
   "execution_count": 107,
   "metadata": {
    "ExecuteTime": {
     "end_time": "2019-02-18T03:01:00.780270Z",
     "start_time": "2019-02-18T03:01:00.765648Z"
    }
   },
   "outputs": [
    {
     "data": {
      "text/plain": [
       "'1.12.0'"
      ]
     },
     "execution_count": 107,
     "metadata": {},
     "output_type": "execute_result"
    }
   ],
   "source": [
    "tf.__version__"
   ]
  },
  {
   "cell_type": "code",
   "execution_count": 108,
   "metadata": {
    "ExecuteTime": {
     "end_time": "2019-02-18T03:01:01.371348Z",
     "start_time": "2019-02-18T03:01:01.360397Z"
    }
   },
   "outputs": [
    {
     "data": {
      "text/plain": [
       "'2.1.6-tf'"
      ]
     },
     "execution_count": 108,
     "metadata": {},
     "output_type": "execute_result"
    }
   ],
   "source": [
    "tf.keras.__version__"
   ]
  },
  {
   "cell_type": "code",
   "execution_count": 109,
   "metadata": {
    "ExecuteTime": {
     "end_time": "2019-02-18T03:01:01.569904Z",
     "start_time": "2019-02-18T03:01:01.552354Z"
    }
   },
   "outputs": [
    {
     "data": {
      "text/plain": [
       "'0.24.1'"
      ]
     },
     "execution_count": 109,
     "metadata": {},
     "output_type": "execute_result"
    }
   ],
   "source": [
    "pd.__version__"
   ]
  },
  {
   "cell_type": "code",
   "execution_count": 110,
   "metadata": {
    "ExecuteTime": {
     "end_time": "2019-02-18T03:01:01.737858Z",
     "start_time": "2019-02-18T03:01:01.723507Z"
    },
    "code_folding": []
   },
   "outputs": [],
   "source": [
    "# resampling the data so that the index is a little neater\n",
    "df1 = spurs1.resample('H').mean()\n",
    "df2 = spurs2.resample('H').mean()"
   ]
  },
  {
   "cell_type": "code",
   "execution_count": 111,
   "metadata": {
    "ExecuteTime": {
     "end_time": "2019-02-18T03:01:02.969812Z",
     "start_time": "2019-02-18T03:01:01.874059Z"
    }
   },
   "outputs": [
    {
     "data": {
      "text/plain": [
       "<matplotlib.axes._subplots.AxesSubplot at 0x194b01ad358>"
      ]
     },
     "execution_count": 111,
     "metadata": {},
     "output_type": "execute_result"
    },
    {
     "data": {
      "image/png": "[encoded data removed]",
      "text/plain": [
       "<Figure size 432x288 with 2 Axes>"
      ]
     },
     "metadata": {
      "needs_background": "light"
     },
     "output_type": "display_data"
    }
   ],
   "source": [
    "fig, axes = plt.subplots(nrows=2, ncols=1)\n",
    "\n",
    "plt.figure(1)\n",
    "plt.subplot(211)\n",
    "df1.sss.plot()\n",
    "\n",
    "plt.subplot(212)\n",
    "df2.sss.plot()"
   ]
  },
  {
   "cell_type": "code",
   "execution_count": 112,
   "metadata": {
    "ExecuteTime": {
     "end_time": "2019-02-18T03:01:02.987768Z",
     "start_time": "2019-02-18T03:01:02.972151Z"
    }
   },
   "outputs": [
    {
     "data": {
      "text/plain": [
       "(9133, 8)"
      ]
     },
     "execution_count": 112,
     "metadata": {},
     "output_type": "execute_result"
    }
   ],
   "source": [
    "# finding the shape of our data\n",
    "df1.values.shape"
   ]
  },
  {
   "cell_type": "code",
   "execution_count": 113,
   "metadata": {
    "ExecuteTime": {
     "end_time": "2019-02-18T03:01:03.121418Z",
     "start_time": "2019-02-18T03:01:02.990064Z"
    }
   },
   "outputs": [
    {
     "data": {
      "text/plain": [
       "(10549, 8)"
      ]
     },
     "execution_count": 113,
     "metadata": {},
     "output_type": "execute_result"
    }
   ],
   "source": [
    "# finding the shape of our data\n",
    "df2.values.shape"
   ]
  },
  {
   "cell_type": "code",
   "execution_count": 114,
   "metadata": {
    "ExecuteTime": {
     "end_time": "2019-02-18T03:01:03.270910Z",
     "start_time": "2019-02-18T03:01:03.125765Z"
    }
   },
   "outputs": [
    {
     "data": {
      "text/html": [
       "<div>\n",
       "<style scoped>\n",
       "    .dataframe tbody tr th:only-of-type {\n",
       "        vertical-align: middle;\n",
       "    }\n",
       "\n",
       "    .dataframe tbody tr th {\n",
       "        vertical-align: top;\n",
       "    }\n",
       "\n",
       "    .dataframe thead th {\n",
       "        text-align: right;\n",
       "    }\n",
       "</style>\n",
       "<table border=\"1\" class=\"dataframe\">\n",
       "  <thead>\n",
       "    <tr style=\"text-align: right;\">\n",
       "      <th></th>\n",
       "      <th>time</th>\n",
       "      <th>sss</th>\n",
       "      <th>sst</th>\n",
       "      <th>precip</th>\n",
       "      <th>wind_spd</th>\n",
       "      <th>wind_dir</th>\n",
       "      <th>cum_precip3</th>\n",
       "      <th>cum_precip6</th>\n",
       "      <th>(Various, Day)</th>\n",
       "      <th>(Various, Hour)</th>\n",
       "    </tr>\n",
       "    <tr>\n",
       "      <th>datetime</th>\n",
       "      <th></th>\n",
       "      <th></th>\n",
       "      <th></th>\n",
       "      <th></th>\n",
       "      <th></th>\n",
       "      <th></th>\n",
       "      <th></th>\n",
       "      <th></th>\n",
       "      <th></th>\n",
       "      <th></th>\n",
       "    </tr>\n",
       "  </thead>\n",
       "  <tbody>\n",
       "    <tr>\n",
       "      <th>2012-09-14 20:00:00</th>\n",
       "      <td>735126.854167</td>\n",
       "      <td>37.768</td>\n",
       "      <td>27.887</td>\n",
       "      <td>0.0</td>\n",
       "      <td>3.1715</td>\n",
       "      <td>-70.403</td>\n",
       "      <td>0.0</td>\n",
       "      <td>0.0</td>\n",
       "      <td>258</td>\n",
       "      <td>20</td>\n",
       "    </tr>\n",
       "    <tr>\n",
       "      <th>2012-09-14 21:00:00</th>\n",
       "      <td>735126.895833</td>\n",
       "      <td>37.767</td>\n",
       "      <td>27.794</td>\n",
       "      <td>0.0</td>\n",
       "      <td>3.5116</td>\n",
       "      <td>-78.652</td>\n",
       "      <td>0.0</td>\n",
       "      <td>0.0</td>\n",
       "      <td>258</td>\n",
       "      <td>21</td>\n",
       "    </tr>\n",
       "    <tr>\n",
       "      <th>2012-09-14 22:00:00</th>\n",
       "      <td>735126.937500</td>\n",
       "      <td>37.768</td>\n",
       "      <td>27.718</td>\n",
       "      <td>0.0</td>\n",
       "      <td>4.8705</td>\n",
       "      <td>-86.660</td>\n",
       "      <td>0.0</td>\n",
       "      <td>0.0</td>\n",
       "      <td>258</td>\n",
       "      <td>22</td>\n",
       "    </tr>\n",
       "    <tr>\n",
       "      <th>2012-09-14 23:00:00</th>\n",
       "      <td>735126.979167</td>\n",
       "      <td>37.769</td>\n",
       "      <td>27.651</td>\n",
       "      <td>0.0</td>\n",
       "      <td>4.5117</td>\n",
       "      <td>-89.874</td>\n",
       "      <td>0.0</td>\n",
       "      <td>0.0</td>\n",
       "      <td>258</td>\n",
       "      <td>23</td>\n",
       "    </tr>\n",
       "    <tr>\n",
       "      <th>2012-09-15 00:00:00</th>\n",
       "      <td>735127.020833</td>\n",
       "      <td>37.770</td>\n",
       "      <td>27.593</td>\n",
       "      <td>0.0</td>\n",
       "      <td>4.3185</td>\n",
       "      <td>-94.404</td>\n",
       "      <td>0.0</td>\n",
       "      <td>0.0</td>\n",
       "      <td>259</td>\n",
       "      <td>0</td>\n",
       "    </tr>\n",
       "  </tbody>\n",
       "</table>\n",
       "</div>"
      ],
      "text/plain": [
       "                              time     sss     sst  precip  wind_spd  \\\n",
       "datetime                                                               \n",
       "2012-09-14 20:00:00  735126.854167  37.768  27.887     0.0    3.1715   \n",
       "2012-09-14 21:00:00  735126.895833  37.767  27.794     0.0    3.5116   \n",
       "2012-09-14 22:00:00  735126.937500  37.768  27.718     0.0    4.8705   \n",
       "2012-09-14 23:00:00  735126.979167  37.769  27.651     0.0    4.5117   \n",
       "2012-09-15 00:00:00  735127.020833  37.770  27.593     0.0    4.3185   \n",
       "\n",
       "                     wind_dir  cum_precip3  cum_precip6  (Various, Day)  \\\n",
       "datetime                                                                  \n",
       "2012-09-14 20:00:00   -70.403          0.0          0.0             258   \n",
       "2012-09-14 21:00:00   -78.652          0.0          0.0             258   \n",
       "2012-09-14 22:00:00   -86.660          0.0          0.0             258   \n",
       "2012-09-14 23:00:00   -89.874          0.0          0.0             258   \n",
       "2012-09-15 00:00:00   -94.404          0.0          0.0             259   \n",
       "\n",
       "                     (Various, Hour)  \n",
       "datetime                              \n",
       "2012-09-14 20:00:00               20  \n",
       "2012-09-14 21:00:00               21  \n",
       "2012-09-14 22:00:00               22  \n",
       "2012-09-14 23:00:00               23  \n",
       "2012-09-15 00:00:00                0  "
      ]
     },
     "execution_count": 114,
     "metadata": {},
     "output_type": "execute_result"
    }
   ],
   "source": [
    "# Here we are adding a few other input-signals \n",
    "# to the data that may help our model in making predictions\n",
    "# Day of the year and Hour\n",
    "df2['Various', 'Day'] = df2.index.dayofyear\n",
    "df2['Various', 'Hour'] = df2.index.hour\n",
    "df2.head()\n",
    "\n",
    "df1['Various', 'Day'] = df1.index.dayofyear\n",
    "df1['Various', 'Hour'] = df1.index.hour\n",
    "df1.head()"
   ]
  },
  {
   "cell_type": "markdown",
   "metadata": {},
   "source": [
    "## Target data for prediction"
   ]
  },
  {
   "cell_type": "code",
   "execution_count": 115,
   "metadata": {
    "ExecuteTime": {
     "end_time": "2019-02-18T03:01:03.721094Z",
     "start_time": "2019-02-18T03:01:03.707403Z"
    }
   },
   "outputs": [],
   "source": [
    "# identifying the target - what we want to predict\n",
    "target = ['sss', 'sst', 'precip']"
   ]
  },
  {
   "cell_type": "markdown",
   "metadata": {},
   "source": [
    "The following is the number of time-steps that we will shift the target-data. Our data-set is resampled to have an observation for each hour, so there are 24 observations for 24 hours.\n",
    "\n",
    "If we want to predict the weather 24 hours into the future, we shift the data 24 time-steps. If we want to predict the weather 7 days into the future, we shift the data 7 * 24 time-steps.\n"
   ]
  },
  {
   "cell_type": "code",
   "execution_count": 116,
   "metadata": {
    "ExecuteTime": {
     "end_time": "2019-02-18T03:01:04.621228Z",
     "start_time": "2019-02-18T03:01:04.616016Z"
    }
   },
   "outputs": [],
   "source": [
    "shift_days = 1\n",
    "shift_steps = shift_days * 24  # Number of hours."
   ]
  },
  {
   "cell_type": "code",
   "execution_count": 117,
   "metadata": {
    "ExecuteTime": {
     "end_time": "2019-02-18T03:01:04.935995Z",
     "start_time": "2019-02-18T03:01:04.915740Z"
    }
   },
   "outputs": [],
   "source": [
    "df_targets = df2[target].shift(-shift_steps)"
   ]
  },
  {
   "cell_type": "markdown",
   "metadata": {},
   "source": [
    "## Numpy arrays"
   ]
  },
  {
   "cell_type": "markdown",
   "metadata": {},
   "source": [
    "We now convert the Pandas data-frames to NumPy arrays that can be input to the neural network. We also remove the last part of the numpy arrays, because the target-data has NaN for the shifted period, and we only want to have valid data and we need the same array-shapes for the input- and output-data."
   ]
  },
  {
   "cell_type": "code",
   "execution_count": 118,
   "metadata": {
    "ExecuteTime": {
     "end_time": "2019-02-18T03:01:05.420831Z",
     "start_time": "2019-02-18T03:01:05.412522Z"
    }
   },
   "outputs": [],
   "source": [
    "# input-signals:\n",
    "x_data = df2.values[0:-shift_steps]"
   ]
  },
  {
   "cell_type": "code",
   "execution_count": 119,
   "metadata": {
    "ExecuteTime": {
     "end_time": "2019-02-18T03:01:05.769610Z",
     "start_time": "2019-02-18T03:01:05.761985Z"
    }
   },
   "outputs": [
    {
     "name": "stdout",
     "output_type": "stream",
     "text": [
      "<class 'numpy.ndarray'>\n",
      "shape: (10525, 10)\n"
     ]
    }
   ],
   "source": [
    "print(type(x_data))\n",
    "print('shape:', x_data.shape)"
   ]
  },
  {
   "cell_type": "code",
   "execution_count": 120,
   "metadata": {
    "ExecuteTime": {
     "end_time": "2019-02-18T03:01:06.570482Z",
     "start_time": "2019-02-18T03:01:06.566738Z"
    }
   },
   "outputs": [],
   "source": [
    "# output-signals (or target signals):\n",
    "y_data = df_targets.values[:-shift_steps]\n"
   ]
  },
  {
   "cell_type": "code",
   "execution_count": 121,
   "metadata": {
    "ExecuteTime": {
     "end_time": "2019-02-18T03:01:06.754366Z",
     "start_time": "2019-02-18T03:01:06.750709Z"
    }
   },
   "outputs": [
    {
     "name": "stdout",
     "output_type": "stream",
     "text": [
      "<class 'numpy.ndarray'>\n",
      "shape: (10525, 3)\n"
     ]
    }
   ],
   "source": [
    "print(type(y_data))\n",
    "print('shape:', y_data.shape)"
   ]
  },
  {
   "cell_type": "code",
   "execution_count": 122,
   "metadata": {
    "ExecuteTime": {
     "end_time": "2019-02-18T03:01:06.920350Z",
     "start_time": "2019-02-18T03:01:06.910269Z"
    }
   },
   "outputs": [
    {
     "data": {
      "text/plain": [
       "10525"
      ]
     },
     "execution_count": 122,
     "metadata": {},
     "output_type": "execute_result"
    }
   ],
   "source": [
    "# number of observations in the dataset:\n",
    "num_data = len(x_data)\n",
    "num_data"
   ]
  },
  {
   "cell_type": "code",
   "execution_count": 123,
   "metadata": {
    "ExecuteTime": {
     "end_time": "2019-02-18T03:01:07.504364Z",
     "start_time": "2019-02-18T03:01:07.492869Z"
    }
   },
   "outputs": [],
   "source": [
    "# fraction of the data-set that will \n",
    "# be used for the training set:\n",
    "train_split = 0.9"
   ]
  },
  {
   "cell_type": "code",
   "execution_count": 124,
   "metadata": {
    "ExecuteTime": {
     "end_time": "2019-02-18T03:01:07.720994Z",
     "start_time": "2019-02-18T03:01:07.702160Z"
    }
   },
   "outputs": [
    {
     "name": "stdout",
     "output_type": "stream",
     "text": [
      "number of obs in the training set: 9472\n"
     ]
    }
   ],
   "source": [
    "num_train = int(train_split * num_data)\n",
    "print('number of obs in the training set: %d' % num_train)"
   ]
  },
  {
   "cell_type": "code",
   "execution_count": 125,
   "metadata": {
    "ExecuteTime": {
     "end_time": "2019-02-18T03:01:07.870919Z",
     "start_time": "2019-02-18T03:01:07.850962Z"
    }
   },
   "outputs": [
    {
     "name": "stdout",
     "output_type": "stream",
     "text": [
      "number of obs in the test set: 1053\n"
     ]
    }
   ],
   "source": [
    "num_test = num_data - num_train\n",
    "print('number of obs in the test set: %d' % num_test)"
   ]
  },
  {
   "cell_type": "code",
   "execution_count": 126,
   "metadata": {
    "ExecuteTime": {
     "end_time": "2019-02-18T03:01:08.537650Z",
     "start_time": "2019-02-18T03:01:08.519927Z"
    }
   },
   "outputs": [
    {
     "name": "stdout",
     "output_type": "stream",
     "text": [
      "number of input-signals for the training and test sets: 10525\n"
     ]
    }
   ],
   "source": [
    "x_train = x_data[0:num_train]\n",
    "x_test = x_data[num_train:]\n",
    "print('number of input-signals for the training and test sets: %d' % (len(x_train) + len(x_test)))"
   ]
  },
  {
   "cell_type": "code",
   "execution_count": 127,
   "metadata": {
    "ExecuteTime": {
     "end_time": "2019-02-18T03:01:08.737635Z",
     "start_time": "2019-02-18T03:01:08.724324Z"
    }
   },
   "outputs": [
    {
     "name": "stdout",
     "output_type": "stream",
     "text": [
      "number of output-signals for the training and test sets: 10525\n"
     ]
    }
   ],
   "source": [
    "y_train = y_data[0:num_train]\n",
    "y_test = y_data[num_train:]\n",
    "print('number of output-signals for the training and test sets: %d' % (len(y_train) + len(y_test)))"
   ]
  },
  {
   "cell_type": "code",
   "execution_count": 128,
   "metadata": {
    "ExecuteTime": {
     "end_time": "2019-02-18T03:01:08.937303Z",
     "start_time": "2019-02-18T03:01:08.933001Z"
    }
   },
   "outputs": [
    {
     "name": "stdout",
     "output_type": "stream",
     "text": [
      "number of input-signals: 10\n"
     ]
    }
   ],
   "source": [
    "num_x_signals = x_data.shape[1]\n",
    "print('number of input-signals: %d' % num_x_signals)"
   ]
  },
  {
   "cell_type": "code",
   "execution_count": 129,
   "metadata": {
    "ExecuteTime": {
     "end_time": "2019-02-18T03:01:09.203483Z",
     "start_time": "2019-02-18T03:01:09.192423Z"
    }
   },
   "outputs": [
    {
     "name": "stdout",
     "output_type": "stream",
     "text": [
      "number of output-signals: 3\n"
     ]
    }
   ],
   "source": [
    "num_y_signals = y_data.shape[1]\n",
    "print('number of output-signals: %d' % num_y_signals)"
   ]
  },
  {
   "cell_type": "markdown",
   "metadata": {},
   "source": [
    "## Scaled data"
   ]
  },
  {
   "cell_type": "code",
   "execution_count": 130,
   "metadata": {
    "ExecuteTime": {
     "end_time": "2019-02-18T03:01:09.798269Z",
     "start_time": "2019-02-18T03:01:09.784072Z"
    }
   },
   "outputs": [
    {
     "name": "stdout",
     "output_type": "stream",
     "text": [
      "Min: -179.94\n",
      "Max: 736960.729166667\n"
     ]
    }
   ],
   "source": [
    "# The neural network works best on values roughly between -1 and 1, \n",
    "# so we need to scale the data before it is being input to the neural network\n",
    "print(\"Min:\", np.min(x_train))\n",
    "print(\"Max:\", np.max(x_train))"
   ]
  },
  {
   "cell_type": "code",
   "execution_count": 131,
   "metadata": {
    "ExecuteTime": {
     "end_time": "2019-02-18T03:01:10.220459Z",
     "start_time": "2019-02-18T03:01:10.217670Z"
    }
   },
   "outputs": [],
   "source": [
    "# we first create a scalar-object for the input-signals\n",
    "x_scaler = MinMaxScaler()"
   ]
  },
  {
   "cell_type": "code",
   "execution_count": 132,
   "metadata": {
    "ExecuteTime": {
     "end_time": "2019-02-18T03:01:11.254010Z",
     "start_time": "2019-02-18T03:01:11.238646Z"
    }
   },
   "outputs": [],
   "source": [
    "# We then detect the range of values from the training-data \n",
    "# and scale the training-data.\n",
    "x_train_scaled = x_scaler.fit_transform(x_train)"
   ]
  },
  {
   "cell_type": "code",
   "execution_count": 133,
   "metadata": {
    "ExecuteTime": {
     "end_time": "2019-02-18T03:01:11.486698Z",
     "start_time": "2019-02-18T03:01:11.482015Z"
    }
   },
   "outputs": [
    {
     "name": "stdout",
     "output_type": "stream",
     "text": [
      "Min: 0.0\n",
      "Max: 1.0\n"
     ]
    }
   ],
   "source": [
    "print(\"Min:\", np.min(x_train_scaled))\n",
    "print(\"Max:\", np.max(x_train_scaled))"
   ]
  },
  {
   "cell_type": "code",
   "execution_count": 134,
   "metadata": {
    "ExecuteTime": {
     "end_time": "2019-02-18T03:01:11.702699Z",
     "start_time": "2019-02-18T03:01:11.691479Z"
    }
   },
   "outputs": [],
   "source": [
    "# We use the same scaler-object for \n",
    "# the input-signals in the test-set.\n",
    "x_test_scaled = x_scaler.transform(x_test)"
   ]
  },
  {
   "cell_type": "code",
   "execution_count": 135,
   "metadata": {
    "ExecuteTime": {
     "end_time": "2019-02-18T03:01:12.370806Z",
     "start_time": "2019-02-18T03:01:12.357315Z"
    }
   },
   "outputs": [],
   "source": [
    "# create a separate scaler-object for the target-data.\n",
    "y_scaler = MinMaxScaler()\n",
    "y_train_scaled = y_scaler.fit_transform(y_train)\n",
    "y_test_scaled = y_scaler.transform(y_test)"
   ]
  },
  {
   "cell_type": "markdown",
   "metadata": {},
   "source": [
    "## Data generator"
   ]
  },
  {
   "cell_type": "code",
   "execution_count": 136,
   "metadata": {
    "ExecuteTime": {
     "end_time": "2019-02-18T03:01:12.787562Z",
     "start_time": "2019-02-18T03:01:12.777212Z"
    }
   },
   "outputs": [
    {
     "name": "stdout",
     "output_type": "stream",
     "text": [
      "(9472, 10)\n",
      "(9472, 3)\n"
     ]
    }
   ],
   "source": [
    "# array shapes of the input and output data:\n",
    "print(x_train_scaled.shape)\n",
    "print(y_train_scaled.shape)"
   ]
  },
  {
   "cell_type": "code",
   "execution_count": 137,
   "metadata": {
    "ExecuteTime": {
     "end_time": "2019-02-18T03:01:13.335582Z",
     "start_time": "2019-02-18T03:01:13.329328Z"
    }
   },
   "outputs": [],
   "source": [
    "# creating batches of shorter sub-sequences picked at random\n",
    "def batch_generator(batch_size, sequence_length):\n",
    "    \"\"\"\n",
    "    Generator function for creating random batches of training-data.\n",
    "    \"\"\"\n",
    "\n",
    "    # Infinite loop.\n",
    "    while True:\n",
    "        # Allocate a new array for the batch of input-signals.\n",
    "        x_shape = (batch_size, sequence_length, num_x_signals)\n",
    "        x_batch = np.zeros(shape=x_shape, dtype=np.float16)\n",
    "\n",
    "        # Allocate a new array for the batch of output-signals.\n",
    "        y_shape = (batch_size, sequence_length, num_y_signals)\n",
    "        y_batch = np.zeros(shape=y_shape, dtype=np.float16)\n",
    "\n",
    "        # Fill the batch with random sequences of data.\n",
    "        for i in range(batch_size):\n",
    "            # Get a random start-index.\n",
    "            # This points somewhere into the training-data.\n",
    "            idx = np.random.randint(num_train - sequence_length)\n",
    "            \n",
    "            # Copy the sequences of data starting at this index.\n",
    "            x_batch[i] = x_train_scaled[idx:idx+sequence_length]\n",
    "            y_batch[i] = y_train_scaled[idx:idx+sequence_length]\n",
    "        \n",
    "        yield (x_batch, y_batch)"
   ]
  },
  {
   "cell_type": "code",
   "execution_count": 138,
   "metadata": {
    "ExecuteTime": {
     "end_time": "2019-02-18T03:01:13.553461Z",
     "start_time": "2019-02-18T03:01:13.549053Z"
    }
   },
   "outputs": [],
   "source": [
    "batch_size = 256"
   ]
  },
  {
   "cell_type": "markdown",
   "metadata": {},
   "source": [
    "We will use a sequence-length of 1344, which means that each random sequence contains observations for 8 weeks. One time-step corresponds to one hour, so 24 x 7 time-steps corresponds to a week, and 24 x 7 x 8 corresponds to 8 weeks."
   ]
  },
  {
   "cell_type": "code",
   "execution_count": 139,
   "metadata": {
    "ExecuteTime": {
     "end_time": "2019-02-18T03:01:14.603840Z",
     "start_time": "2019-02-18T03:01:14.586355Z"
    }
   },
   "outputs": [
    {
     "data": {
      "text/plain": [
       "1344"
      ]
     },
     "execution_count": 139,
     "metadata": {},
     "output_type": "execute_result"
    }
   ],
   "source": [
    "sequence_length = 24 * 7 * 8\n",
    "sequence_length"
   ]
  },
  {
   "cell_type": "code",
   "execution_count": 140,
   "metadata": {
    "ExecuteTime": {
     "end_time": "2019-02-18T03:01:14.853068Z",
     "start_time": "2019-02-18T03:01:14.848651Z"
    }
   },
   "outputs": [],
   "source": [
    "# create batch generator\n",
    "generator = batch_generator(batch_size=batch_size,\n",
    "                            sequence_length=sequence_length)"
   ]
  },
  {
   "cell_type": "code",
   "execution_count": 141,
   "metadata": {
    "ExecuteTime": {
     "end_time": "2019-02-18T03:01:15.418741Z",
     "start_time": "2019-02-18T03:01:15.381352Z"
    }
   },
   "outputs": [],
   "source": [
    "# test the generator\n",
    "x_batch, y_batch = next(generator)"
   ]
  },
  {
   "cell_type": "code",
   "execution_count": 142,
   "metadata": {
    "ExecuteTime": {
     "end_time": "2019-02-18T03:01:15.869746Z",
     "start_time": "2019-02-18T03:01:15.864683Z"
    }
   },
   "outputs": [
    {
     "name": "stdout",
     "output_type": "stream",
     "text": [
      "(256, 1344, 10)\n",
      "(256, 1344, 3)\n"
     ]
    }
   ],
   "source": [
    "print(x_batch.shape)\n",
    "print(y_batch.shape)"
   ]
  },
  {
   "cell_type": "code",
   "execution_count": 143,
   "metadata": {
    "ExecuteTime": {
     "end_time": "2019-02-18T03:01:16.802268Z",
     "start_time": "2019-02-18T03:01:16.591381Z"
    }
   },
   "outputs": [
    {
     "data": {
      "text/plain": [
       "[<matplotlib.lines.Line2D at 0x194b0470d30>]"
      ]
     },
     "execution_count": 143,
     "metadata": {},
     "output_type": "execute_result"
    },
    {
     "data": {
      "image/png": "[encoded data removed]",
      "text/plain": [
       "<Figure size 432x288 with 1 Axes>"
      ]
     },
     "metadata": {
      "needs_background": "light"
     },
     "output_type": "display_data"
    }
   ],
   "source": [
    "# plotting one of the 7 signals as an example:\n",
    "batch = 0   # First sequence in the batch.\n",
    "signal = 0  # First signal from the 20 input-signals.\n",
    "seq = x_batch[batch, :, signal]\n",
    "plt.plot(seq)"
   ]
  },
  {
   "cell_type": "code",
   "execution_count": 144,
   "metadata": {
    "ExecuteTime": {
     "end_time": "2019-02-18T03:01:17.585709Z",
     "start_time": "2019-02-18T03:01:17.391516Z"
    }
   },
   "outputs": [
    {
     "data": {
      "text/plain": [
       "[<matplotlib.lines.Line2D at 0x194b0d89518>]"
      ]
     },
     "execution_count": 144,
     "metadata": {},
     "output_type": "execute_result"
    },
    {
     "data": {
      "image/png": "[encoded data removed]",
      "text/plain": [
       "<Figure size 432x288 with 1 Axes>"
      ]
     },
     "metadata": {
      "needs_background": "light"
     },
     "output_type": "display_data"
    }
   ],
   "source": [
    "# plotting the output-signal\n",
    "seq = y_batch[batch, :, signal]\n",
    "plt.plot(seq)"
   ]
  },
  {
   "cell_type": "markdown",
   "metadata": {},
   "source": [
    "### Validation set"
   ]
  },
  {
   "cell_type": "markdown",
   "metadata": {},
   "source": [
    "The neural network trains quickly so we can easily run many training epochs. But then there is a risk of overfitting the model to the training-set so it does not generalize well to unseen data. We will therefore monitor the model's performance on the test-set after each epoch and only save the model's weights if the performance is improved on the test-set.\n",
    "\n",
    "The batch-generator randomly selects a batch of short sequences from the training-data and uses that during training. But for the validation-data we will instead run through the entire sequence from the test-set and measure the prediction accuracy on that entire sequence."
   ]
  },
  {
   "cell_type": "code",
   "execution_count": 145,
   "metadata": {
    "ExecuteTime": {
     "end_time": "2019-02-18T03:01:19.219512Z",
     "start_time": "2019-02-18T03:01:19.203486Z"
    }
   },
   "outputs": [],
   "source": [
    "validation_data = (np.expand_dims(x_test_scaled, axis=0),\n",
    "                   np.expand_dims(y_test_scaled, axis=0))"
   ]
  },
  {
   "cell_type": "markdown",
   "metadata": {},
   "source": [
    "## Create the Recurrent Neural Network"
   ]
  },
  {
   "cell_type": "code",
   "execution_count": 146,
   "metadata": {
    "ExecuteTime": {
     "end_time": "2019-02-18T03:01:20.086894Z",
     "start_time": "2019-02-18T03:01:20.074332Z"
    }
   },
   "outputs": [],
   "source": [
    "model = Sequential()"
   ]
  },
  {
   "cell_type": "markdown",
   "metadata": {},
   "source": [
    "We can now add a Gated Recurrent Unit (GRU) to the network. This will have 512 outputs for each time-step in the sequence.\n",
    "\n",
    "Note that because this is the first layer in the model, Keras needs to know the shape of its input, which is a batch of sequences of arbitrary length (indicated by None), where each observation has a number of input-signals (num_x_signals).\n"
   ]
  },
  {
   "cell_type": "code",
   "execution_count": 147,
   "metadata": {
    "ExecuteTime": {
     "end_time": "2019-02-18T03:01:21.318384Z",
     "start_time": "2019-02-18T03:01:20.862685Z"
    }
   },
   "outputs": [],
   "source": [
    "model.add(GRU(units=512,\n",
    "              return_sequences=True,\n",
    "              input_shape=(None, num_x_signals,)))"
   ]
  },
  {
   "cell_type": "markdown",
   "metadata": {},
   "source": [
    "The GRU outputs a batch of sequences of 512 values. We want to predict 3 output-signals, so we add a fully-connected (or dense) layer which maps 512 values down to only 3 values.\n",
    "\n",
    "The output-signals in the data-set have been limited to be between 0 and 1 using a scaler-object. So we also limit the output of the neural network using the Sigmoid activation function, which squashes the output to be between 0 and 1.\n"
   ]
  },
  {
   "cell_type": "code",
   "execution_count": 148,
   "metadata": {
    "ExecuteTime": {
     "end_time": "2019-02-18T03:01:21.385804Z",
     "start_time": "2019-02-18T03:01:21.320389Z"
    }
   },
   "outputs": [],
   "source": [
    "model.add(Dense(num_y_signals, activation='sigmoid'))"
   ]
  },
  {
   "cell_type": "markdown",
   "metadata": {},
   "source": [
    "A problem with using the Sigmoid activation function, is that we can now only output values in the same range as the training-data.\n",
    "\n",
    "For example, if the training-data only has temperatures between -20 and +30 degrees, then the scaler-object will map -20 to 0 and +30 to 1. So if we limit the output of the neural network to be between 0 and 1 using the Sigmoid function, this can only be mapped back to temperature values between -20 and +30.\n",
    "\n",
    "We can use a linear activation function on the output instead. This allows for the output to take on arbitrary values. It might work with the standard initialization for a simple network architecture, but for more complicated network architectures e.g. with more layers, it might be necessary to initialize the weights with smaller values to avoid NaN values during training. You may need to experiment with this to get it working.\n"
   ]
  },
  {
   "cell_type": "code",
   "execution_count": 149,
   "metadata": {
    "ExecuteTime": {
     "end_time": "2019-02-18T03:01:22.153413Z",
     "start_time": "2019-02-18T03:01:22.141031Z"
    }
   },
   "outputs": [],
   "source": [
    "if False:\n",
    "    from tensorflow.python.keras.initializers import RandomUniform\n",
    "\n",
    "    # Maybe use lower init-ranges.\n",
    "    init = RandomUniform(minval=-0.05, maxval=0.05)\n",
    "\n",
    "    model.add(Dense(num_y_signals,\n",
    "                    activation='linear',\n",
    "                    kernel_initializer=init))"
   ]
  },
  {
   "cell_type": "markdown",
   "metadata": {},
   "source": [
    "### Loss function"
   ]
  },
  {
   "cell_type": "markdown",
   "metadata": {},
   "source": [
    "We will use Mean Squared Error (MSE) as the loss-function that will be minimized. This measures how closely the model's output matches the true output signals.\n",
    "\n",
    "However, at the beginning of a sequence, the model has only seen input-signals for a few time-steps, so its generated output may be very inaccurate. Using the loss-value for the early time-steps may cause the model to distort its later output. We therefore give the model a \"warmup-period\" of 50 time-steps where we don't use its accuracy in the loss-function, in hope of improving the accuracy for later time-steps."
   ]
  },
  {
   "cell_type": "code",
   "execution_count": 150,
   "metadata": {
    "ExecuteTime": {
     "end_time": "2019-02-18T03:01:23.553486Z",
     "start_time": "2019-02-18T03:01:23.536145Z"
    }
   },
   "outputs": [],
   "source": [
    "warmup_steps = 50"
   ]
  },
  {
   "cell_type": "code",
   "execution_count": 151,
   "metadata": {
    "ExecuteTime": {
     "end_time": "2019-02-18T03:01:24.053576Z",
     "start_time": "2019-02-18T03:01:24.038074Z"
    }
   },
   "outputs": [],
   "source": [
    "def loss_mse_warmup(y_true, y_pred):\n",
    "    \"\"\"\n",
    "    Calculate the Mean Squared Error between y_true and y_pred,\n",
    "    but ignore the beginning \"warmup\" part of the sequences.\n",
    "    \n",
    "    y_true is the desired output.\n",
    "    y_pred is the model's output.\n",
    "    \"\"\"\n",
    "\n",
    "    # The shape of both input tensors are:\n",
    "    # [batch_size, sequence_length, num_y_signals].\n",
    "\n",
    "    # Ignore the \"warmup\" parts of the sequences\n",
    "    # by taking slices of the tensors.\n",
    "    y_true_slice = y_true[:, warmup_steps:, :]\n",
    "    y_pred_slice = y_pred[:, warmup_steps:, :]\n",
    "\n",
    "    # These sliced tensors both have this shape:\n",
    "    # [batch_size, sequence_length - warmup_steps, num_y_signals]\n",
    "\n",
    "    # Calculate the MSE loss for each value in these tensors.\n",
    "    # This outputs a 3-rank tensor of the same shape.\n",
    "    loss = tf.losses.mean_squared_error(labels=y_true_slice,\n",
    "                                        predictions=y_pred_slice)\n",
    "\n",
    "    # Keras may reduce this across the first axis (the batch)\n",
    "    # but the semantics are unclear, so to be sure we use\n",
    "    # the loss across the entire tensor, we reduce it to a\n",
    "    # single scalar with the mean function.\n",
    "    loss_mean = tf.reduce_mean(loss)\n",
    "\n",
    "    return loss_mean"
   ]
  },
  {
   "cell_type": "markdown",
   "metadata": {},
   "source": [
    "### Compile Model"
   ]
  },
  {
   "cell_type": "code",
   "execution_count": 152,
   "metadata": {
    "ExecuteTime": {
     "end_time": "2019-02-18T03:01:25.036762Z",
     "start_time": "2019-02-18T03:01:25.003257Z"
    }
   },
   "outputs": [],
   "source": [
    "# the optimizer and the beginning learning rate that we'll be using\n",
    "optimizer = RMSprop(lr=1e-2)"
   ]
  },
  {
   "cell_type": "code",
   "execution_count": 153,
   "metadata": {
    "ExecuteTime": {
     "end_time": "2019-02-18T03:01:25.370287Z",
     "start_time": "2019-02-18T03:01:25.281015Z"
    }
   },
   "outputs": [],
   "source": [
    "# compile the Keras model so it's ready for training\n",
    "model.compile(loss=loss_mse_warmup, optimizer=optimizer)"
   ]
  },
  {
   "cell_type": "markdown",
   "metadata": {},
   "source": [
    "This is a very small model with only two layers. The output shape of (None, None, 5) means that the model will output a batch with an arbitrary number of sequences, each of which has an arbitrary number of observations, and each observation has 5 signals. This corresponds to the 5 target signals we want to predict.\n"
   ]
  },
  {
   "cell_type": "code",
   "execution_count": 154,
   "metadata": {
    "ExecuteTime": {
     "end_time": "2019-02-18T03:01:26.086022Z",
     "start_time": "2019-02-18T03:01:26.067524Z"
    }
   },
   "outputs": [
    {
     "name": "stdout",
     "output_type": "stream",
     "text": [
      "_________________________________________________________________\n",
      "Layer (type)                 Output Shape              Param #   \n",
      "=================================================================\n",
      "gru_1 (GRU)                  (None, None, 512)         803328    \n",
      "_________________________________________________________________\n",
      "dense_1 (Dense)              (None, None, 3)           1539      \n",
      "=================================================================\n",
      "Total params: 804,867\n",
      "Trainable params: 804,867\n",
      "Non-trainable params: 0\n",
      "_________________________________________________________________\n"
     ]
    }
   ],
   "source": [
    "model.summary()"
   ]
  },
  {
   "cell_type": "markdown",
   "metadata": {},
   "source": [
    "### Callback functions"
   ]
  },
  {
   "cell_type": "markdown",
   "metadata": {},
   "source": [
    "During training we want to save checkpoints and log the progress to TensorBoard so we create the appropriate callbacks for Keras.\n",
    "\n",
    "This is the callback for writing checkpoints during training."
   ]
  },
  {
   "cell_type": "code",
   "execution_count": 155,
   "metadata": {
    "ExecuteTime": {
     "end_time": "2019-02-18T03:01:27.186656Z",
     "start_time": "2019-02-18T03:01:27.175195Z"
    }
   },
   "outputs": [],
   "source": [
    "path_checkpoint = '23_checkpoint.keras'\n",
    "callback_checkpoint = ModelCheckpoint(filepath=path_checkpoint,\n",
    "                                      monitor='val_loss',\n",
    "                                      verbose=1,\n",
    "                                      save_weights_only=True,\n",
    "                                      save_best_only=True)"
   ]
  },
  {
   "cell_type": "code",
   "execution_count": 156,
   "metadata": {
    "ExecuteTime": {
     "end_time": "2019-02-18T03:01:27.853108Z",
     "start_time": "2019-02-18T03:01:27.850606Z"
    }
   },
   "outputs": [],
   "source": [
    "# This is the callback for stopping the optimization when performance worsens on the validation-set.\n",
    "callback_early_stopping = EarlyStopping(monitor='val_loss',\n",
    "                                        patience=5, verbose=1)"
   ]
  },
  {
   "cell_type": "code",
   "execution_count": 157,
   "metadata": {
    "ExecuteTime": {
     "end_time": "2019-02-18T03:01:28.086702Z",
     "start_time": "2019-02-18T03:01:28.073864Z"
    }
   },
   "outputs": [],
   "source": [
    "# This is the callback for writing the TensorBoard log during training.\n",
    "callback_tensorboard = TensorBoard(log_dir='./23_logs/',\n",
    "                                   histogram_freq=0,\n",
    "                                   write_graph=False)"
   ]
  },
  {
   "cell_type": "markdown",
   "metadata": {},
   "source": [
    "This callback reduces the learning-rate for the optimizer if the validation-loss has not improved since the last epoch (as indicated by patience=0). The learning-rate will be reduced by multiplying it with the given factor. We set a start learning-rate of 1e-3 above, so multiplying it by 0.1 gives a learning-rate of 1e-4. We don't want the learning-rate to go any lower than this."
   ]
  },
  {
   "cell_type": "code",
   "execution_count": 158,
   "metadata": {
    "ExecuteTime": {
     "end_time": "2019-02-18T03:01:28.786656Z",
     "start_time": "2019-02-18T03:01:28.779694Z"
    }
   },
   "outputs": [],
   "source": [
    "callback_reduce_lr = ReduceLROnPlateau(monitor='val_loss',\n",
    "                                       factor=0.1,\n",
    "                                       min_lr=1e-3,\n",
    "                                       patience=0,\n",
    "                                       verbose=1)"
   ]
  },
  {
   "cell_type": "code",
   "execution_count": 159,
   "metadata": {
    "ExecuteTime": {
     "end_time": "2019-02-18T03:01:28.969976Z",
     "start_time": "2019-02-18T03:01:28.964634Z"
    }
   },
   "outputs": [],
   "source": [
    "callbacks = [callback_early_stopping,\n",
    "             callback_checkpoint,\n",
    "             callback_tensorboard,\n",
    "             callback_reduce_lr]"
   ]
  },
  {
   "cell_type": "markdown",
   "metadata": {},
   "source": [
    "## Train the RNN"
   ]
  },
  {
   "cell_type": "markdown",
   "metadata": {},
   "source": [
    "We can now train the neural network.\n",
    "\n",
    "Note that a single \"epoch\" does not correspond to a single processing of the training-set, because of how the batch-generator randomly selects sub-sequences from the training-set. Instead we have selected steps_per_epoch so that one \"epoch\" is processed in a few minutes.\n",
    "\n",
    "With these settings, each \"epoch\" took about 2.5 minutes to process on a GTX 1070. After 14 \"epochs\" the optimization was stopped because the validation-loss had not decreased for 5 \"epochs\". This optimization took about 35 minutes to finish.\n",
    "\n",
    "Also note that the loss sometimes becomes NaN (not-a-number). This is often resolved by restarting and running the Notebook again. But it may also be caused by your neural network architecture, learning-rate, batch-size, sequence-length, etc. in which case you may have to modify those settings."
   ]
  },
  {
   "cell_type": "code",
   "execution_count": 160,
   "metadata": {
    "ExecuteTime": {
     "end_time": "2019-02-18T03:01:29.918029Z",
     "start_time": "2019-02-18T03:01:29.904030Z"
    }
   },
   "outputs": [
    {
     "data": {
      "text/plain": [
       "True"
      ]
     },
     "execution_count": 160,
     "metadata": {},
     "output_type": "execute_result"
    }
   ],
   "source": [
    "# first, make sure the model is tranable. Looks like it is.\n",
    "model.trainable"
   ]
  },
  {
   "cell_type": "code",
   "execution_count": 161,
   "metadata": {
    "ExecuteTime": {
     "end_time": "2019-02-18T03:01:30.119082Z",
     "start_time": "2019-02-18T03:01:30.110378Z"
    }
   },
   "outputs": [
    {
     "data": {
      "text/plain": [
       "'\\n%%time\\nmodel.fit_generator(generator=generator,\\n                    epochs=5,\\n                    steps_per_epoch=20,\\n                    validation_data=validation_data,\\n                    callbacks=callbacks,\\n                    workers=50,\\n                    max_queue_size=8)\\n'"
      ]
     },
     "execution_count": 161,
     "metadata": {},
     "output_type": "execute_result"
    }
   ],
   "source": [
    "'''\n",
    "%%time\n",
    "model.fit_generator(generator=generator,\n",
    "                    epochs=5,\n",
    "                    steps_per_epoch=20,\n",
    "                    validation_data=validation_data,\n",
    "                    callbacks=callbacks,\n",
    "                    workers=50,\n",
    "                    max_queue_size=8)\n",
    "'''"
   ]
  },
  {
   "cell_type": "markdown",
   "metadata": {},
   "source": [
    "### Load Checkpoint"
   ]
  },
  {
   "cell_type": "markdown",
   "metadata": {},
   "source": [
    "Because we use early-stopping when training the model, it is possible that the model's performance has worsened on the test-set for several epochs before training was stopped. We therefore reload the last saved checkpoint, which should have the best performance on the test-set."
   ]
  },
  {
   "cell_type": "code",
   "execution_count": 162,
   "metadata": {
    "ExecuteTime": {
     "end_time": "2019-02-18T03:01:31.219733Z",
     "start_time": "2019-02-18T03:01:31.209588Z"
    }
   },
   "outputs": [
    {
     "data": {
      "text/plain": [
       "'\\ntry:\\n    model.load_weights(path_checkpoint)\\nexcept Exception as error:\\n    print(\"Error trying to load checkpoint.\")\\n    print(error)\\n'"
      ]
     },
     "execution_count": 162,
     "metadata": {},
     "output_type": "execute_result"
    }
   ],
   "source": [
    "'''\n",
    "try:\n",
    "    model.load_weights(path_checkpoint)\n",
    "except Exception as error:\n",
    "    print(\"Error trying to load checkpoint.\")\n",
    "    print(error)\n",
    "'''"
   ]
  },
  {
   "cell_type": "markdown",
   "metadata": {},
   "source": [
    "## Performance on test set"
   ]
  },
  {
   "cell_type": "code",
   "execution_count": 163,
   "metadata": {
    "ExecuteTime": {
     "end_time": "2019-02-18T03:01:35.036657Z",
     "start_time": "2019-02-18T03:01:32.655157Z"
    }
   },
   "outputs": [
    {
     "name": "stdout",
     "output_type": "stream",
     "text": [
      "\r",
      "1/1 [==============================] - 2s 2s/step\n"
     ]
    }
   ],
   "source": [
    "# expand array dimensionality to create a batch with the one sequence\n",
    "result = model.evaluate(x=np.expand_dims(x_test_scaled, axis=0),\n",
    "                        y=np.expand_dims(y_test_scaled, axis=0))"
   ]
  },
  {
   "cell_type": "code",
   "execution_count": 164,
   "metadata": {
    "ExecuteTime": {
     "end_time": "2019-02-18T03:01:35.052389Z",
     "start_time": "2019-02-18T03:01:35.041160Z"
    }
   },
   "outputs": [
    {
     "name": "stdout",
     "output_type": "stream",
     "text": [
      "loss (test-set): 0.10941273719072342\n"
     ]
    }
   ],
   "source": [
    "print(\"loss (test-set):\", result)"
   ]
  },
  {
   "cell_type": "code",
   "execution_count": 165,
   "metadata": {
    "ExecuteTime": {
     "end_time": "2019-02-18T03:01:35.186466Z",
     "start_time": "2019-02-18T03:01:35.056402Z"
    }
   },
   "outputs": [],
   "source": [
    "# If you have several metrics you can use this instead.\n",
    "if False:\n",
    "    for res, metric in zip(result, model.metrics_names):\n",
    "        print(\"{0}: {1:.3e}\".format(metric, res))"
   ]
  },
  {
   "cell_type": "markdown",
   "metadata": {},
   "source": [
    "## Generate predictions"
   ]
  },
  {
   "cell_type": "code",
   "execution_count": 166,
   "metadata": {
    "ExecuteTime": {
     "end_time": "2019-02-18T03:01:35.303042Z",
     "start_time": "2019-02-18T03:01:35.189553Z"
    }
   },
   "outputs": [],
   "source": [
    "# helper function plots the predicted and true output-signals\n",
    "def plot_comparison(start_idx, length=100, train=True):\n",
    "    \"\"\"\n",
    "    Plot the predicted and true output-signals.\n",
    "    \n",
    "    :param start_idx: Start-index for the time-series.\n",
    "    :param length: Sequence-length to process and plot.\n",
    "    :param train: Boolean whether to use training- or test-set.\n",
    "    \"\"\"\n",
    "    \n",
    "    if train:\n",
    "        # Use training-data.\n",
    "        x = x_train_scaled\n",
    "        y_true = y_train\n",
    "    else:\n",
    "        # Use test-data.\n",
    "        x = x_test_scaled\n",
    "        y_true = y_test\n",
    "    \n",
    "    # End-index for the sequences.\n",
    "    end_idx = start_idx + length\n",
    "    \n",
    "    # Select the sequences from the given start-index and\n",
    "    # of the given length.\n",
    "    x = x[start_idx:end_idx]\n",
    "    y_true = y_true[start_idx:end_idx]\n",
    "    \n",
    "    # Input-signals for the model.\n",
    "    x = np.expand_dims(x, axis=0)\n",
    "\n",
    "    # Use the model to predict the output-signals.\n",
    "    y_pred = model.predict(x)\n",
    "#     print(y_pred[0])\n",
    "    # The output of the model is between 0 and 1.\n",
    "    # Do an inverse map to get it back to the scale\n",
    "    # of the original data-set.\n",
    "    y_pred_rescaled = y_scaler.inverse_transform(y_pred[0])\n",
    "#     print(y_pred_rescaled.shape)\n",
    "    # For each output-signal.\n",
    "    for signal in range(len(target)):\n",
    "        # Get the output-signal predicted by the model.\n",
    "        signal_pred = y_pred_rescaled[:, signal]\n",
    "#         print(signal)\n",
    "#         print(signal_pred)\n",
    "        \n",
    "        \n",
    "        # Get the true output-signal from the data-set.\n",
    "        signal_true = y_true[:, signal]\n",
    "\n",
    "        # Make the plotting-canvas bigger.\n",
    "        plt.figure(figsize=(15,5))\n",
    "        \n",
    "        # Plot and compare the two signals.\n",
    "        plt.plot(signal_true, label='true')\n",
    "        plt.plot(signal_pred, label='pred')\n",
    "        \n",
    "        # Plot grey box for warmup-period.\n",
    "        p = plt.axvspan(0, warmup_steps, facecolor='black', alpha=0.15)\n",
    "        \n",
    "        # Plot labels etc.\n",
    "        plt.ylabel(target[signal])\n",
    "        plt.legend()\n",
    "        plt.show()"
   ]
  },
  {
   "cell_type": "markdown",
   "metadata": {},
   "source": [
    "Below, the results are very skewed from the initial results - I changed the parameters of the model and have yet to rerun the initial state. The graphs below can be ignored."
   ]
  },
  {
   "cell_type": "code",
   "execution_count": 167,
   "metadata": {
    "ExecuteTime": {
     "end_time": "2019-02-18T03:01:38.719681Z",
     "start_time": "2019-02-18T03:01:35.487306Z"
    }
   },
   "outputs": [
    {
     "data": {
      "image/png": "[encoded data removed]",
      "text/plain": [
       "<Figure size 1080x360 with 1 Axes>"
      ]
     },
     "metadata": {
      "needs_background": "light"
     },
     "output_type": "display_data"
    },
    {
     "data": {
      "image/png": "[encoded data removed]",
      "text/plain": [
       "<Figure size 1080x360 with 1 Axes>"
      ]
     },
     "metadata": {
      "needs_background": "light"
     },
     "output_type": "display_data"
    },
    {
     "data": {
      "image/png": "[encoded data removed]",
      "text/plain": [
       "<Figure size 1080x360 with 1 Axes>"
      ]
     },
     "metadata": {
      "needs_background": "light"
     },
     "output_type": "display_data"
    }
   ],
   "source": [
    "plot_comparison(start_idx=2000, length=1000, train=True)"
   ]
  },
  {
   "cell_type": "markdown",
   "metadata": {},
   "source": [
    "## Example from test set"
   ]
  },
  {
   "cell_type": "code",
   "execution_count": 168,
   "metadata": {
    "ExecuteTime": {
     "end_time": "2019-02-18T03:01:44.685048Z",
     "start_time": "2019-02-18T03:01:41.700559Z"
    }
   },
   "outputs": [
    {
     "data": {
      "image/png": "[encoded data removed]",
      "text/plain": [
       "<Figure size 1080x360 with 1 Axes>"
      ]
     },
     "metadata": {
      "needs_background": "light"
     },
     "output_type": "display_data"
    },
    {
     "data": {
      "image/png": "[encoded data removed]",
      "text/plain": [
       "<Figure size 1080x360 with 1 Axes>"
      ]
     },
     "metadata": {
      "needs_background": "light"
     },
     "output_type": "display_data"
    },
    {
     "data": {
      "image/png": "[encoded data removed]",
      "text/plain": [
       "<Figure size 1080x360 with 1 Axes>"
      ]
     },
     "metadata": {
      "needs_background": "light"
     },
     "output_type": "display_data"
    }
   ],
   "source": [
    "plot_comparison(start_idx=50, length=2000, train=False)"
   ]
  },
  {
   "cell_type": "markdown",
   "metadata": {},
   "source": [
    "## Conclusion"
   ]
  },
  {
   "cell_type": "markdown",
   "metadata": {},
   "source": [
    "The time series algorithm worked reasonably well for predicting both sss and sst. However, predicting precip proved to be a little bit less fruitful - at least with our current parameters. I theorize that we see a discrepancy between the true and predicted trend lines because the training algorithm interprets each of the substantial rain events, seen as large peaks on the plot, as anomalies. \n",
    "\n",
    "Progressing forward, I do believe that this is a method that could work for us. The reason that salinity doesn't seem to have a high significance is because the minimal changes in sss might be read as insignificant - however, in reality, microscopic changes in salinity are very valuable. I would like to try this again by creating a scaled column for salinity."
   ]
  },
  {
   "cell_type": "markdown",
   "metadata": {},
   "source": [
    "# Some other stuff"
   ]
  },
  {
   "cell_type": "code",
   "execution_count": 169,
   "metadata": {
    "ExecuteTime": {
     "end_time": "2019-02-18T03:01:51.234365Z",
     "start_time": "2019-02-18T03:01:51.207194Z"
    }
   },
   "outputs": [
    {
     "data": {
      "text/html": [
       "<div>\n",
       "<style scoped>\n",
       "    .dataframe tbody tr th:only-of-type {\n",
       "        vertical-align: middle;\n",
       "    }\n",
       "\n",
       "    .dataframe tbody tr th {\n",
       "        vertical-align: top;\n",
       "    }\n",
       "\n",
       "    .dataframe thead th {\n",
       "        text-align: right;\n",
       "    }\n",
       "</style>\n",
       "<table border=\"1\" class=\"dataframe\">\n",
       "  <thead>\n",
       "    <tr style=\"text-align: right;\">\n",
       "      <th></th>\n",
       "      <th>time</th>\n",
       "      <th>sss</th>\n",
       "      <th>sst</th>\n",
       "      <th>precip</th>\n",
       "      <th>wind_spd</th>\n",
       "      <th>wind_dir</th>\n",
       "      <th>cum_precip3</th>\n",
       "      <th>cum_precip6</th>\n",
       "      <th>(Various, Day)</th>\n",
       "      <th>(Various, Hour)</th>\n",
       "      <th>sss_diff</th>\n",
       "      <th>precip_diff</th>\n",
       "    </tr>\n",
       "    <tr>\n",
       "      <th>datetime</th>\n",
       "      <th></th>\n",
       "      <th></th>\n",
       "      <th></th>\n",
       "      <th></th>\n",
       "      <th></th>\n",
       "      <th></th>\n",
       "      <th></th>\n",
       "      <th></th>\n",
       "      <th></th>\n",
       "      <th></th>\n",
       "      <th></th>\n",
       "      <th></th>\n",
       "    </tr>\n",
       "  </thead>\n",
       "  <tbody>\n",
       "    <tr>\n",
       "      <th>2016-08-24 02:00:00</th>\n",
       "      <td>736566.104167</td>\n",
       "      <td>32.786</td>\n",
       "      <td>29.973</td>\n",
       "      <td>0.000</td>\n",
       "      <td>1.4993</td>\n",
       "      <td>-35.280</td>\n",
       "      <td>0.000</td>\n",
       "      <td>0.0</td>\n",
       "      <td>237</td>\n",
       "      <td>2</td>\n",
       "      <td>0.000</td>\n",
       "      <td>0.000</td>\n",
       "    </tr>\n",
       "    <tr>\n",
       "      <th>2016-08-24 03:00:00</th>\n",
       "      <td>736566.145833</td>\n",
       "      <td>32.790</td>\n",
       "      <td>30.089</td>\n",
       "      <td>0.000</td>\n",
       "      <td>2.2012</td>\n",
       "      <td>-44.300</td>\n",
       "      <td>0.000</td>\n",
       "      <td>0.0</td>\n",
       "      <td>237</td>\n",
       "      <td>3</td>\n",
       "      <td>0.004</td>\n",
       "      <td>0.000</td>\n",
       "    </tr>\n",
       "    <tr>\n",
       "      <th>2016-08-24 04:00:00</th>\n",
       "      <td>736566.187500</td>\n",
       "      <td>32.628</td>\n",
       "      <td>29.630</td>\n",
       "      <td>10.613</td>\n",
       "      <td>4.6946</td>\n",
       "      <td>-80.636</td>\n",
       "      <td>10.613</td>\n",
       "      <td>0.0</td>\n",
       "      <td>237</td>\n",
       "      <td>4</td>\n",
       "      <td>-0.162</td>\n",
       "      <td>10.613</td>\n",
       "    </tr>\n",
       "    <tr>\n",
       "      <th>2016-08-24 05:00:00</th>\n",
       "      <td>736566.229167</td>\n",
       "      <td>32.606</td>\n",
       "      <td>29.367</td>\n",
       "      <td>1.210</td>\n",
       "      <td>1.3395</td>\n",
       "      <td>141.610</td>\n",
       "      <td>11.823</td>\n",
       "      <td>0.0</td>\n",
       "      <td>237</td>\n",
       "      <td>5</td>\n",
       "      <td>-0.022</td>\n",
       "      <td>-9.403</td>\n",
       "    </tr>\n",
       "    <tr>\n",
       "      <th>2016-08-24 06:00:00</th>\n",
       "      <td>736566.270833</td>\n",
       "      <td>32.607</td>\n",
       "      <td>29.310</td>\n",
       "      <td>0.000</td>\n",
       "      <td>1.8056</td>\n",
       "      <td>100.850</td>\n",
       "      <td>11.823</td>\n",
       "      <td>0.0</td>\n",
       "      <td>237</td>\n",
       "      <td>6</td>\n",
       "      <td>0.001</td>\n",
       "      <td>-1.210</td>\n",
       "    </tr>\n",
       "  </tbody>\n",
       "</table>\n",
       "</div>"
      ],
      "text/plain": [
       "                              time     sss     sst  precip  wind_spd  \\\n",
       "datetime                                                               \n",
       "2016-08-24 02:00:00  736566.104167  32.786  29.973   0.000    1.4993   \n",
       "2016-08-24 03:00:00  736566.145833  32.790  30.089   0.000    2.2012   \n",
       "2016-08-24 04:00:00  736566.187500  32.628  29.630  10.613    4.6946   \n",
       "2016-08-24 05:00:00  736566.229167  32.606  29.367   1.210    1.3395   \n",
       "2016-08-24 06:00:00  736566.270833  32.607  29.310   0.000    1.8056   \n",
       "\n",
       "                     wind_dir  cum_precip3  cum_precip6  (Various, Day)  \\\n",
       "datetime                                                                  \n",
       "2016-08-24 02:00:00   -35.280        0.000          0.0             237   \n",
       "2016-08-24 03:00:00   -44.300        0.000          0.0             237   \n",
       "2016-08-24 04:00:00   -80.636       10.613          0.0             237   \n",
       "2016-08-24 05:00:00   141.610       11.823          0.0             237   \n",
       "2016-08-24 06:00:00   100.850       11.823          0.0             237   \n",
       "\n",
       "                     (Various, Hour)  sss_diff  precip_diff  \n",
       "datetime                                                     \n",
       "2016-08-24 02:00:00                2     0.000        0.000  \n",
       "2016-08-24 03:00:00                3     0.004        0.000  \n",
       "2016-08-24 04:00:00                4    -0.162       10.613  \n",
       "2016-08-24 05:00:00                5    -0.022       -9.403  \n",
       "2016-08-24 06:00:00                6     0.001       -1.210  "
      ]
     },
     "execution_count": 169,
     "metadata": {},
     "output_type": "execute_result"
    }
   ],
   "source": [
    "df2['sss_diff'], df2['precip_diff']  = df2['sss'].diff(), df2['precip'].diff()\n",
    "df2 = df2.fillna(0)\n",
    "df2.head()"
   ]
  },
  {
   "cell_type": "code",
   "execution_count": 170,
   "metadata": {
    "ExecuteTime": {
     "end_time": "2019-02-18T03:01:53.802180Z",
     "start_time": "2019-02-18T03:01:53.764346Z"
    }
   },
   "outputs": [
    {
     "data": {
      "text/html": [
       "<div>\n",
       "<style scoped>\n",
       "    .dataframe tbody tr th:only-of-type {\n",
       "        vertical-align: middle;\n",
       "    }\n",
       "\n",
       "    .dataframe tbody tr th {\n",
       "        vertical-align: top;\n",
       "    }\n",
       "\n",
       "    .dataframe thead th {\n",
       "        text-align: right;\n",
       "    }\n",
       "</style>\n",
       "<table border=\"1\" class=\"dataframe\">\n",
       "  <thead>\n",
       "    <tr style=\"text-align: right;\">\n",
       "      <th></th>\n",
       "      <th>time</th>\n",
       "      <th>sss</th>\n",
       "      <th>sst</th>\n",
       "      <th>precip</th>\n",
       "      <th>wind_spd</th>\n",
       "      <th>wind_dir</th>\n",
       "      <th>cum_precip3</th>\n",
       "      <th>cum_precip6</th>\n",
       "      <th>(Various, Day)</th>\n",
       "      <th>(Various, Hour)</th>\n",
       "      <th>sss_diff</th>\n",
       "      <th>precip_diff</th>\n",
       "    </tr>\n",
       "  </thead>\n",
       "  <tbody>\n",
       "    <tr>\n",
       "      <th>time</th>\n",
       "      <td>1.000000</td>\n",
       "      <td>0.198050</td>\n",
       "      <td>0.246370</td>\n",
       "      <td>-0.016691</td>\n",
       "      <td>-0.084186</td>\n",
       "      <td>0.009089</td>\n",
       "      <td>-0.021917</td>\n",
       "      <td>-0.026306</td>\n",
       "      <td>-0.049838</td>\n",
       "      <td>0.000151</td>\n",
       "      <td>-0.002811</td>\n",
       "      <td>-0.000060</td>\n",
       "    </tr>\n",
       "    <tr>\n",
       "      <th>sss</th>\n",
       "      <td>0.198050</td>\n",
       "      <td>1.000000</td>\n",
       "      <td>-0.452434</td>\n",
       "      <td>-0.160745</td>\n",
       "      <td>0.424844</td>\n",
       "      <td>-0.572238</td>\n",
       "      <td>-0.223558</td>\n",
       "      <td>-0.262026</td>\n",
       "      <td>-0.766898</td>\n",
       "      <td>0.003643</td>\n",
       "      <td>0.037036</td>\n",
       "      <td>0.015475</td>\n",
       "    </tr>\n",
       "    <tr>\n",
       "      <th>sst</th>\n",
       "      <td>0.246370</td>\n",
       "      <td>-0.452434</td>\n",
       "      <td>1.000000</td>\n",
       "      <td>0.012091</td>\n",
       "      <td>-0.451183</td>\n",
       "      <td>0.363262</td>\n",
       "      <td>0.005854</td>\n",
       "      <td>0.005522</td>\n",
       "      <td>0.435396</td>\n",
       "      <td>0.015443</td>\n",
       "      <td>0.006163</td>\n",
       "      <td>0.009997</td>\n",
       "    </tr>\n",
       "    <tr>\n",
       "      <th>precip</th>\n",
       "      <td>-0.016691</td>\n",
       "      <td>-0.160745</td>\n",
       "      <td>0.012091</td>\n",
       "      <td>1.000000</td>\n",
       "      <td>-0.043303</td>\n",
       "      <td>0.088515</td>\n",
       "      <td>0.723873</td>\n",
       "      <td>0.534377</td>\n",
       "      <td>0.094682</td>\n",
       "      <td>-0.005808</td>\n",
       "      <td>-0.434577</td>\n",
       "      <td>0.527998</td>\n",
       "    </tr>\n",
       "    <tr>\n",
       "      <th>wind_spd</th>\n",
       "      <td>-0.084186</td>\n",
       "      <td>0.424844</td>\n",
       "      <td>-0.451183</td>\n",
       "      <td>-0.043303</td>\n",
       "      <td>1.000000</td>\n",
       "      <td>-0.303017</td>\n",
       "      <td>-0.057860</td>\n",
       "      <td>-0.060240</td>\n",
       "      <td>-0.398996</td>\n",
       "      <td>0.008720</td>\n",
       "      <td>0.048031</td>\n",
       "      <td>0.005204</td>\n",
       "    </tr>\n",
       "    <tr>\n",
       "      <th>wind_dir</th>\n",
       "      <td>0.009089</td>\n",
       "      <td>-0.572238</td>\n",
       "      <td>0.363262</td>\n",
       "      <td>0.088515</td>\n",
       "      <td>-0.303017</td>\n",
       "      <td>1.000000</td>\n",
       "      <td>0.118139</td>\n",
       "      <td>0.154891</td>\n",
       "      <td>0.462655</td>\n",
       "      <td>0.017422</td>\n",
       "      <td>-0.004844</td>\n",
       "      <td>0.002104</td>\n",
       "    </tr>\n",
       "    <tr>\n",
       "      <th>cum_precip3</th>\n",
       "      <td>-0.021917</td>\n",
       "      <td>-0.223558</td>\n",
       "      <td>0.005854</td>\n",
       "      <td>0.723873</td>\n",
       "      <td>-0.057860</td>\n",
       "      <td>0.118139</td>\n",
       "      <td>1.000000</td>\n",
       "      <td>0.803213</td>\n",
       "      <td>0.124906</td>\n",
       "      <td>-0.006775</td>\n",
       "      <td>-0.250909</td>\n",
       "      <td>-0.098775</td>\n",
       "    </tr>\n",
       "    <tr>\n",
       "      <th>cum_precip6</th>\n",
       "      <td>-0.026306</td>\n",
       "      <td>-0.262026</td>\n",
       "      <td>0.005522</td>\n",
       "      <td>0.534377</td>\n",
       "      <td>-0.060240</td>\n",
       "      <td>0.154891</td>\n",
       "      <td>0.803213</td>\n",
       "      <td>1.000000</td>\n",
       "      <td>0.155375</td>\n",
       "      <td>-0.003197</td>\n",
       "      <td>-0.058981</td>\n",
       "      <td>-0.092024</td>\n",
       "    </tr>\n",
       "    <tr>\n",
       "      <th>(Various, Day)</th>\n",
       "      <td>-0.049838</td>\n",
       "      <td>-0.766898</td>\n",
       "      <td>0.435396</td>\n",
       "      <td>0.094682</td>\n",
       "      <td>-0.398996</td>\n",
       "      <td>0.462655</td>\n",
       "      <td>0.124906</td>\n",
       "      <td>0.155375</td>\n",
       "      <td>1.000000</td>\n",
       "      <td>-0.000893</td>\n",
       "      <td>0.004151</td>\n",
       "      <td>-0.000080</td>\n",
       "    </tr>\n",
       "    <tr>\n",
       "      <th>(Various, Hour)</th>\n",
       "      <td>0.000151</td>\n",
       "      <td>0.003643</td>\n",
       "      <td>0.015443</td>\n",
       "      <td>-0.005808</td>\n",
       "      <td>0.008720</td>\n",
       "      <td>0.017422</td>\n",
       "      <td>-0.006775</td>\n",
       "      <td>-0.003197</td>\n",
       "      <td>-0.000893</td>\n",
       "      <td>1.000000</td>\n",
       "      <td>-0.003212</td>\n",
       "      <td>0.001781</td>\n",
       "    </tr>\n",
       "    <tr>\n",
       "      <th>sss_diff</th>\n",
       "      <td>-0.002811</td>\n",
       "      <td>0.037036</td>\n",
       "      <td>0.006163</td>\n",
       "      <td>-0.434577</td>\n",
       "      <td>0.048031</td>\n",
       "      <td>-0.004844</td>\n",
       "      <td>-0.250909</td>\n",
       "      <td>-0.058981</td>\n",
       "      <td>0.004151</td>\n",
       "      <td>-0.003212</td>\n",
       "      <td>1.000000</td>\n",
       "      <td>-0.205257</td>\n",
       "    </tr>\n",
       "    <tr>\n",
       "      <th>precip_diff</th>\n",
       "      <td>-0.000060</td>\n",
       "      <td>0.015475</td>\n",
       "      <td>0.009997</td>\n",
       "      <td>0.527998</td>\n",
       "      <td>0.005204</td>\n",
       "      <td>0.002104</td>\n",
       "      <td>-0.098775</td>\n",
       "      <td>-0.092024</td>\n",
       "      <td>-0.000080</td>\n",
       "      <td>0.001781</td>\n",
       "      <td>-0.205257</td>\n",
       "      <td>1.000000</td>\n",
       "    </tr>\n",
       "  </tbody>\n",
       "</table>\n",
       "</div>"
      ],
      "text/plain": [
       "                     time       sss       sst    precip  wind_spd  wind_dir  \\\n",
       "time             1.000000  0.198050  0.246370 -0.016691 -0.084186  0.009089   \n",
       "sss              0.198050  1.000000 -0.452434 -0.160745  0.424844 -0.572238   \n",
       "sst              0.246370 -0.452434  1.000000  0.012091 -0.451183  0.363262   \n",
       "precip          -0.016691 -0.160745  0.012091  1.000000 -0.043303  0.088515   \n",
       "wind_spd        -0.084186  0.424844 -0.451183 -0.043303  1.000000 -0.303017   \n",
       "wind_dir         0.009089 -0.572238  0.363262  0.088515 -0.303017  1.000000   \n",
       "cum_precip3     -0.021917 -0.223558  0.005854  0.723873 -0.057860  0.118139   \n",
       "cum_precip6     -0.026306 -0.262026  0.005522  0.534377 -0.060240  0.154891   \n",
       "(Various, Day)  -0.049838 -0.766898  0.435396  0.094682 -0.398996  0.462655   \n",
       "(Various, Hour)  0.000151  0.003643  0.015443 -0.005808  0.008720  0.017422   \n",
       "sss_diff        -0.002811  0.037036  0.006163 -0.434577  0.048031 -0.004844   \n",
       "precip_diff     -0.000060  0.015475  0.009997  0.527998  0.005204  0.002104   \n",
       "\n",
       "                 cum_precip3  cum_precip6  (Various, Day)  (Various, Hour)  \\\n",
       "time               -0.021917    -0.026306       -0.049838         0.000151   \n",
       "sss                -0.223558    -0.262026       -0.766898         0.003643   \n",
       "sst                 0.005854     0.005522        0.435396         0.015443   \n",
       "precip              0.723873     0.534377        0.094682        -0.005808   \n",
       "wind_spd           -0.057860    -0.060240       -0.398996         0.008720   \n",
       "wind_dir            0.118139     0.154891        0.462655         0.017422   \n",
       "cum_precip3         1.000000     0.803213        0.124906        -0.006775   \n",
       "cum_precip6         0.803213     1.000000        0.155375        -0.003197   \n",
       "(Various, Day)      0.124906     0.155375        1.000000        -0.000893   \n",
       "(Various, Hour)    -0.006775    -0.003197       -0.000893         1.000000   \n",
       "sss_diff           -0.250909    -0.058981        0.004151        -0.003212   \n",
       "precip_diff        -0.098775    -0.092024       -0.000080         0.001781   \n",
       "\n",
       "                 sss_diff  precip_diff  \n",
       "time            -0.002811    -0.000060  \n",
       "sss              0.037036     0.015475  \n",
       "sst              0.006163     0.009997  \n",
       "precip          -0.434577     0.527998  \n",
       "wind_spd         0.048031     0.005204  \n",
       "wind_dir        -0.004844     0.002104  \n",
       "cum_precip3     -0.250909    -0.098775  \n",
       "cum_precip6     -0.058981    -0.092024  \n",
       "(Various, Day)   0.004151    -0.000080  \n",
       "(Various, Hour) -0.003212     0.001781  \n",
       "sss_diff         1.000000    -0.205257  \n",
       "precip_diff     -0.205257     1.000000  "
      ]
     },
     "execution_count": 170,
     "metadata": {},
     "output_type": "execute_result"
    }
   ],
   "source": [
    "df2.corr()"
   ]
  },
  {
   "cell_type": "code",
   "execution_count": 171,
   "metadata": {
    "ExecuteTime": {
     "end_time": "2019-02-18T03:01:54.469277Z",
     "start_time": "2019-02-18T03:01:54.049616Z"
    }
   },
   "outputs": [
    {
     "data": {
      "text/plain": [
       "<matplotlib.axes._subplots.AxesSubplot at 0x194b139c080>"
      ]
     },
     "execution_count": 171,
     "metadata": {},
     "output_type": "execute_result"
    },
    {
     "data": {
      "image/png": "[encoded data removed]",
      "text/plain": [
       "<Figure size 432x288 with 1 Axes>"
      ]
     },
     "metadata": {
      "needs_background": "light"
     },
     "output_type": "display_data"
    }
   ],
   "source": [
    "df2['sss_diff'].plot()"
   ]
  },
  {
   "cell_type": "code",
   "execution_count": 172,
   "metadata": {
    "ExecuteTime": {
     "end_time": "2019-02-18T03:01:54.885515Z",
     "start_time": "2019-02-18T03:01:54.869488Z"
    }
   },
   "outputs": [
    {
     "name": "stdout",
     "output_type": "stream",
     "text": [
      "Min (sss_diff): -0.9119999999999955\n",
      "Max (sss_diff): 1.2310000000000016\n",
      "Min (precip_diff): -32.702\n",
      "Max (precip_diff): 32.83857999999999\n"
     ]
    }
   ],
   "source": [
    "# The neural network works best on values roughly between -1 and 1, \n",
    "# so we need to scale the data before it is being input to the neural network\n",
    "print(\"Min (sss_diff):\", np.min(df2['sss_diff']))\n",
    "print(\"Max (sss_diff):\", np.max(df2['sss_diff']))\n",
    "print(\"Min (precip_diff):\", np.min(df2['precip_diff']))\n",
    "print(\"Max (precip_diff):\", np.max(df2['precip_diff']))"
   ]
  },
  {
   "cell_type": "code",
   "execution_count": 173,
   "metadata": {
    "ExecuteTime": {
     "end_time": "2019-02-18T03:01:57.935198Z",
     "start_time": "2019-02-18T03:01:57.919839Z"
    }
   },
   "outputs": [],
   "source": [
    "# we first create a scalar-object for the input-signals\n",
    "scaler = MinMaxScaler()"
   ]
  },
  {
   "cell_type": "code",
   "execution_count": 174,
   "metadata": {
    "ExecuteTime": {
     "end_time": "2019-02-18T03:01:58.818476Z",
     "start_time": "2019-02-18T03:01:58.798690Z"
    }
   },
   "outputs": [],
   "source": [
    "scaled_df2 = scaler.fit_transform(df2[['sss_diff', 'precip_diff']])"
   ]
  },
  {
   "cell_type": "code",
   "execution_count": 175,
   "metadata": {
    "ExecuteTime": {
     "end_time": "2019-02-18T03:01:59.051826Z",
     "start_time": "2019-02-18T03:01:59.025089Z"
    }
   },
   "outputs": [],
   "source": [
    "df2['scaled_sss_diff'] = np.squeeze(scaled_df2[:, :1].tolist())\n",
    "df2['scaled_precip_diff'] = np.squeeze(scaled_df2[:, 1:].tolist())"
   ]
  },
  {
   "cell_type": "code",
   "execution_count": 176,
   "metadata": {
    "ExecuteTime": {
     "end_time": "2019-02-18T03:01:59.767776Z",
     "start_time": "2019-02-18T03:01:59.340514Z"
    }
   },
   "outputs": [
    {
     "data": {
      "text/plain": [
       "<matplotlib.axes._subplots.AxesSubplot at 0x194b1906668>"
      ]
     },
     "execution_count": 176,
     "metadata": {},
     "output_type": "execute_result"
    },
    {
     "data": {
      "image/png": "[encoded data removed]",
      "text/plain": [
       "<Figure size 432x288 with 1 Axes>"
      ]
     },
     "metadata": {
      "needs_background": "light"
     },
     "output_type": "display_data"
    }
   ],
   "source": [
    "df2['scaled_precip_diff'].plot()"
   ]
  },
  {
   "cell_type": "code",
   "execution_count": 177,
   "metadata": {
    "ExecuteTime": {
     "end_time": "2019-02-18T03:02:00.385241Z",
     "start_time": "2019-02-18T03:01:59.947703Z"
    }
   },
   "outputs": [
    {
     "data": {
      "text/plain": [
       "<matplotlib.axes._subplots.AxesSubplot at 0x194b1282240>"
      ]
     },
     "execution_count": 177,
     "metadata": {},
     "output_type": "execute_result"
    },
    {
     "data": {
      "image/png": "[encoded data removed]",
      "text/plain": [
       "<Figure size 432x288 with 1 Axes>"
      ]
     },
     "metadata": {
      "needs_background": "light"
     },
     "output_type": "display_data"
    }
   ],
   "source": [
    "df2['scaled_sss_diff'].plot()"
   ]
  },
  {
   "cell_type": "code",
   "execution_count": 178,
   "metadata": {
    "ExecuteTime": {
     "end_time": "2019-02-18T03:02:00.432391Z",
     "start_time": "2019-02-18T03:02:00.412378Z"
    }
   },
   "outputs": [
    {
     "data": {
      "text/html": [
       "<div>\n",
       "<style scoped>\n",
       "    .dataframe tbody tr th:only-of-type {\n",
       "        vertical-align: middle;\n",
       "    }\n",
       "\n",
       "    .dataframe tbody tr th {\n",
       "        vertical-align: top;\n",
       "    }\n",
       "\n",
       "    .dataframe thead th {\n",
       "        text-align: right;\n",
       "    }\n",
       "</style>\n",
       "<table border=\"1\" class=\"dataframe\">\n",
       "  <thead>\n",
       "    <tr style=\"text-align: right;\">\n",
       "      <th></th>\n",
       "      <th>time</th>\n",
       "      <th>sss</th>\n",
       "      <th>sst</th>\n",
       "      <th>precip</th>\n",
       "      <th>wind_spd</th>\n",
       "      <th>wind_dir</th>\n",
       "      <th>cum_precip3</th>\n",
       "      <th>cum_precip6</th>\n",
       "      <th>(Various, Day)</th>\n",
       "      <th>(Various, Hour)</th>\n",
       "      <th>sss_diff</th>\n",
       "      <th>precip_diff</th>\n",
       "      <th>scaled_sss_diff</th>\n",
       "      <th>scaled_precip_diff</th>\n",
       "    </tr>\n",
       "    <tr>\n",
       "      <th>datetime</th>\n",
       "      <th></th>\n",
       "      <th></th>\n",
       "      <th></th>\n",
       "      <th></th>\n",
       "      <th></th>\n",
       "      <th></th>\n",
       "      <th></th>\n",
       "      <th></th>\n",
       "      <th></th>\n",
       "      <th></th>\n",
       "      <th></th>\n",
       "      <th></th>\n",
       "      <th></th>\n",
       "      <th></th>\n",
       "    </tr>\n",
       "  </thead>\n",
       "  <tbody>\n",
       "    <tr>\n",
       "      <th>2016-08-24 02:00:00</th>\n",
       "      <td>736566.104167</td>\n",
       "      <td>32.786</td>\n",
       "      <td>29.973</td>\n",
       "      <td>0.000</td>\n",
       "      <td>1.4993</td>\n",
       "      <td>-35.280</td>\n",
       "      <td>0.000</td>\n",
       "      <td>0.0</td>\n",
       "      <td>237</td>\n",
       "      <td>2</td>\n",
       "      <td>0.000</td>\n",
       "      <td>0.000</td>\n",
       "      <td>0.425572</td>\n",
       "      <td>0.498958</td>\n",
       "    </tr>\n",
       "    <tr>\n",
       "      <th>2016-08-24 03:00:00</th>\n",
       "      <td>736566.145833</td>\n",
       "      <td>32.790</td>\n",
       "      <td>30.089</td>\n",
       "      <td>0.000</td>\n",
       "      <td>2.2012</td>\n",
       "      <td>-44.300</td>\n",
       "      <td>0.000</td>\n",
       "      <td>0.0</td>\n",
       "      <td>237</td>\n",
       "      <td>3</td>\n",
       "      <td>0.004</td>\n",
       "      <td>0.000</td>\n",
       "      <td>0.427438</td>\n",
       "      <td>0.498958</td>\n",
       "    </tr>\n",
       "    <tr>\n",
       "      <th>2016-08-24 04:00:00</th>\n",
       "      <td>736566.187500</td>\n",
       "      <td>32.628</td>\n",
       "      <td>29.630</td>\n",
       "      <td>10.613</td>\n",
       "      <td>4.6946</td>\n",
       "      <td>-80.636</td>\n",
       "      <td>10.613</td>\n",
       "      <td>0.0</td>\n",
       "      <td>237</td>\n",
       "      <td>4</td>\n",
       "      <td>-0.162</td>\n",
       "      <td>10.613</td>\n",
       "      <td>0.349977</td>\n",
       "      <td>0.660888</td>\n",
       "    </tr>\n",
       "  </tbody>\n",
       "</table>\n",
       "</div>"
      ],
      "text/plain": [
       "                              time     sss     sst  precip  wind_spd  \\\n",
       "datetime                                                               \n",
       "2016-08-24 02:00:00  736566.104167  32.786  29.973   0.000    1.4993   \n",
       "2016-08-24 03:00:00  736566.145833  32.790  30.089   0.000    2.2012   \n",
       "2016-08-24 04:00:00  736566.187500  32.628  29.630  10.613    4.6946   \n",
       "\n",
       "                     wind_dir  cum_precip3  cum_precip6  (Various, Day)  \\\n",
       "datetime                                                                  \n",
       "2016-08-24 02:00:00   -35.280        0.000          0.0             237   \n",
       "2016-08-24 03:00:00   -44.300        0.000          0.0             237   \n",
       "2016-08-24 04:00:00   -80.636       10.613          0.0             237   \n",
       "\n",
       "                     (Various, Hour)  sss_diff  precip_diff  scaled_sss_diff  \\\n",
       "datetime                                                                       \n",
       "2016-08-24 02:00:00                2     0.000        0.000         0.425572   \n",
       "2016-08-24 03:00:00                3     0.004        0.000         0.427438   \n",
       "2016-08-24 04:00:00                4    -0.162       10.613         0.349977   \n",
       "\n",
       "                     scaled_precip_diff  \n",
       "datetime                                 \n",
       "2016-08-24 02:00:00            0.498958  \n",
       "2016-08-24 03:00:00            0.498958  \n",
       "2016-08-24 04:00:00            0.660888  "
      ]
     },
     "execution_count": 178,
     "metadata": {},
     "output_type": "execute_result"
    }
   ],
   "source": [
    "df2.head(3)"
   ]
  },
  {
   "cell_type": "markdown",
   "metadata": {},
   "source": [
    "#  ROC Curve vs. Precision-Recall Curve\n",
    "\n",
    "\n",
    "* ROC curves should be used when there are roughly equal numbers of observations for each class.\n",
    "* Precision-Recall curves should be used when there is a moderate to large class imbalance.\n"
   ]
  },
  {
   "cell_type": "code",
   "execution_count": 179,
   "metadata": {
    "ExecuteTime": {
     "end_time": "2019-02-18T03:02:01.734861Z",
     "start_time": "2019-02-18T03:02:01.713453Z"
    },
    "scrolled": true
   },
   "outputs": [
    {
     "data": {
      "text/html": [
       "<div>\n",
       "<style scoped>\n",
       "    .dataframe tbody tr th:only-of-type {\n",
       "        vertical-align: middle;\n",
       "    }\n",
       "\n",
       "    .dataframe tbody tr th {\n",
       "        vertical-align: top;\n",
       "    }\n",
       "\n",
       "    .dataframe thead th {\n",
       "        text-align: right;\n",
       "    }\n",
       "</style>\n",
       "<table border=\"1\" class=\"dataframe\">\n",
       "  <thead>\n",
       "    <tr style=\"text-align: right;\">\n",
       "      <th></th>\n",
       "      <th>time</th>\n",
       "      <th>sss</th>\n",
       "      <th>sst</th>\n",
       "      <th>precip</th>\n",
       "      <th>wind_spd</th>\n",
       "      <th>wind_dir</th>\n",
       "      <th>cum_precip3</th>\n",
       "      <th>cum_precip6</th>\n",
       "      <th>(Various, Day)</th>\n",
       "      <th>(Various, Hour)</th>\n",
       "      <th>sss_diff</th>\n",
       "      <th>precip_diff</th>\n",
       "      <th>scaled_sss_diff</th>\n",
       "      <th>scaled_precip_diff</th>\n",
       "      <th>rain_event</th>\n",
       "    </tr>\n",
       "    <tr>\n",
       "      <th>datetime</th>\n",
       "      <th></th>\n",
       "      <th></th>\n",
       "      <th></th>\n",
       "      <th></th>\n",
       "      <th></th>\n",
       "      <th></th>\n",
       "      <th></th>\n",
       "      <th></th>\n",
       "      <th></th>\n",
       "      <th></th>\n",
       "      <th></th>\n",
       "      <th></th>\n",
       "      <th></th>\n",
       "      <th></th>\n",
       "      <th></th>\n",
       "    </tr>\n",
       "  </thead>\n",
       "  <tbody>\n",
       "    <tr>\n",
       "      <th>2016-08-24 02:00:00</th>\n",
       "      <td>736566.104167</td>\n",
       "      <td>32.786</td>\n",
       "      <td>29.973</td>\n",
       "      <td>0.000</td>\n",
       "      <td>1.4993</td>\n",
       "      <td>-35.280</td>\n",
       "      <td>0.000</td>\n",
       "      <td>0.0</td>\n",
       "      <td>237</td>\n",
       "      <td>2</td>\n",
       "      <td>0.000</td>\n",
       "      <td>0.000</td>\n",
       "      <td>0.425572</td>\n",
       "      <td>0.498958</td>\n",
       "      <td>0</td>\n",
       "    </tr>\n",
       "    <tr>\n",
       "      <th>2016-08-24 03:00:00</th>\n",
       "      <td>736566.145833</td>\n",
       "      <td>32.790</td>\n",
       "      <td>30.089</td>\n",
       "      <td>0.000</td>\n",
       "      <td>2.2012</td>\n",
       "      <td>-44.300</td>\n",
       "      <td>0.000</td>\n",
       "      <td>0.0</td>\n",
       "      <td>237</td>\n",
       "      <td>3</td>\n",
       "      <td>0.004</td>\n",
       "      <td>0.000</td>\n",
       "      <td>0.427438</td>\n",
       "      <td>0.498958</td>\n",
       "      <td>0</td>\n",
       "    </tr>\n",
       "    <tr>\n",
       "      <th>2016-08-24 04:00:00</th>\n",
       "      <td>736566.187500</td>\n",
       "      <td>32.628</td>\n",
       "      <td>29.630</td>\n",
       "      <td>10.613</td>\n",
       "      <td>4.6946</td>\n",
       "      <td>-80.636</td>\n",
       "      <td>10.613</td>\n",
       "      <td>0.0</td>\n",
       "      <td>237</td>\n",
       "      <td>4</td>\n",
       "      <td>-0.162</td>\n",
       "      <td>10.613</td>\n",
       "      <td>0.349977</td>\n",
       "      <td>0.660888</td>\n",
       "      <td>1</td>\n",
       "    </tr>\n",
       "  </tbody>\n",
       "</table>\n",
       "</div>"
      ],
      "text/plain": [
       "                              time     sss     sst  precip  wind_spd  \\\n",
       "datetime                                                               \n",
       "2016-08-24 02:00:00  736566.104167  32.786  29.973   0.000    1.4993   \n",
       "2016-08-24 03:00:00  736566.145833  32.790  30.089   0.000    2.2012   \n",
       "2016-08-24 04:00:00  736566.187500  32.628  29.630  10.613    4.6946   \n",
       "\n",
       "                     wind_dir  cum_precip3  cum_precip6  (Various, Day)  \\\n",
       "datetime                                                                  \n",
       "2016-08-24 02:00:00   -35.280        0.000          0.0             237   \n",
       "2016-08-24 03:00:00   -44.300        0.000          0.0             237   \n",
       "2016-08-24 04:00:00   -80.636       10.613          0.0             237   \n",
       "\n",
       "                     (Various, Hour)  sss_diff  precip_diff  scaled_sss_diff  \\\n",
       "datetime                                                                       \n",
       "2016-08-24 02:00:00                2     0.000        0.000         0.425572   \n",
       "2016-08-24 03:00:00                3     0.004        0.000         0.427438   \n",
       "2016-08-24 04:00:00                4    -0.162       10.613         0.349977   \n",
       "\n",
       "                     scaled_precip_diff  rain_event  \n",
       "datetime                                             \n",
       "2016-08-24 02:00:00            0.498958           0  \n",
       "2016-08-24 03:00:00            0.498958           0  \n",
       "2016-08-24 04:00:00            0.660888           1  "
      ]
     },
     "execution_count": 179,
     "metadata": {},
     "output_type": "execute_result"
    }
   ],
   "source": [
    "rain_event = [1 if i>=2.0 else 0 for i in df2['cum_precip3']]\n",
    "df2['rain_event'] = rain_event\n",
    "df2.head(3)"
   ]
  },
  {
   "cell_type": "code",
   "execution_count": 180,
   "metadata": {
    "ExecuteTime": {
     "end_time": "2019-02-18T03:02:03.235477Z",
     "start_time": "2019-02-18T03:02:03.210316Z"
    }
   },
   "outputs": [
    {
     "data": {
      "text/html": [
       "<div>\n",
       "<style scoped>\n",
       "    .dataframe tbody tr th:only-of-type {\n",
       "        vertical-align: middle;\n",
       "    }\n",
       "\n",
       "    .dataframe tbody tr th {\n",
       "        vertical-align: top;\n",
       "    }\n",
       "\n",
       "    .dataframe thead th {\n",
       "        text-align: right;\n",
       "    }\n",
       "</style>\n",
       "<table border=\"1\" class=\"dataframe\">\n",
       "  <thead>\n",
       "    <tr style=\"text-align: right;\">\n",
       "      <th></th>\n",
       "      <th>time</th>\n",
       "      <th>sss</th>\n",
       "      <th>sst</th>\n",
       "      <th>precip</th>\n",
       "      <th>wind_spd</th>\n",
       "      <th>wind_dir</th>\n",
       "      <th>cum_precip3</th>\n",
       "      <th>cum_precip6</th>\n",
       "      <th>(Various, Day)</th>\n",
       "      <th>(Various, Hour)</th>\n",
       "      <th>sss_diff</th>\n",
       "      <th>precip_diff</th>\n",
       "    </tr>\n",
       "    <tr>\n",
       "      <th>datetime</th>\n",
       "      <th></th>\n",
       "      <th></th>\n",
       "      <th></th>\n",
       "      <th></th>\n",
       "      <th></th>\n",
       "      <th></th>\n",
       "      <th></th>\n",
       "      <th></th>\n",
       "      <th></th>\n",
       "      <th></th>\n",
       "      <th></th>\n",
       "      <th></th>\n",
       "    </tr>\n",
       "  </thead>\n",
       "  <tbody>\n",
       "    <tr>\n",
       "      <th>2016-08-24 02:00:00</th>\n",
       "      <td>736566.104167</td>\n",
       "      <td>32.786</td>\n",
       "      <td>29.973</td>\n",
       "      <td>0.0</td>\n",
       "      <td>1.4993</td>\n",
       "      <td>-35.28</td>\n",
       "      <td>0.0</td>\n",
       "      <td>0.0</td>\n",
       "      <td>237</td>\n",
       "      <td>2</td>\n",
       "      <td>0.0</td>\n",
       "      <td>0.0</td>\n",
       "    </tr>\n",
       "  </tbody>\n",
       "</table>\n",
       "</div>"
      ],
      "text/plain": [
       "                              time     sss     sst  precip  wind_spd  \\\n",
       "datetime                                                               \n",
       "2016-08-24 02:00:00  736566.104167  32.786  29.973     0.0    1.4993   \n",
       "\n",
       "                     wind_dir  cum_precip3  cum_precip6  (Various, Day)  \\\n",
       "datetime                                                                  \n",
       "2016-08-24 02:00:00    -35.28          0.0          0.0             237   \n",
       "\n",
       "                     (Various, Hour)  sss_diff  precip_diff  \n",
       "datetime                                                     \n",
       "2016-08-24 02:00:00                2       0.0          0.0  "
      ]
     },
     "execution_count": 180,
     "metadata": {},
     "output_type": "execute_result"
    }
   ],
   "source": [
    "df2.iloc[:,:12].head(1)"
   ]
  },
  {
   "cell_type": "code",
   "execution_count": 181,
   "metadata": {
    "ExecuteTime": {
     "end_time": "2019-02-18T03:02:05.148659Z",
     "start_time": "2019-02-18T03:02:05.126613Z"
    }
   },
   "outputs": [
    {
     "data": {
      "text/html": [
       "<div>\n",
       "<style scoped>\n",
       "    .dataframe tbody tr th:only-of-type {\n",
       "        vertical-align: middle;\n",
       "    }\n",
       "\n",
       "    .dataframe tbody tr th {\n",
       "        vertical-align: top;\n",
       "    }\n",
       "\n",
       "    .dataframe thead th {\n",
       "        text-align: right;\n",
       "    }\n",
       "</style>\n",
       "<table border=\"1\" class=\"dataframe\">\n",
       "  <thead>\n",
       "    <tr style=\"text-align: right;\">\n",
       "      <th></th>\n",
       "      <th>rain_event</th>\n",
       "    </tr>\n",
       "    <tr>\n",
       "      <th>datetime</th>\n",
       "      <th></th>\n",
       "    </tr>\n",
       "  </thead>\n",
       "  <tbody>\n",
       "    <tr>\n",
       "      <th>2016-08-24 02:00:00</th>\n",
       "      <td>0</td>\n",
       "    </tr>\n",
       "  </tbody>\n",
       "</table>\n",
       "</div>"
      ],
      "text/plain": [
       "                     rain_event\n",
       "datetime                       \n",
       "2016-08-24 02:00:00           0"
      ]
     },
     "execution_count": 181,
     "metadata": {},
     "output_type": "execute_result"
    }
   ],
   "source": [
    "df2.iloc[:,-1:].head(1)"
   ]
  },
  {
   "cell_type": "code",
   "execution_count": null,
   "metadata": {
    "ExecuteTime": {
     "end_time": "2019-02-18T03:03:48.567648Z",
     "start_time": "2019-02-18T03:03:35.051Z"
    }
   },
   "outputs": [],
   "source": [
    "from sklearn import svm, datasets\n",
    "from sklearn.model_selection import train_test_split\n",
    "import numpy as np\n",
    "\n",
    "X = df2.iloc[:,:12]\n",
    "y = df2['rain_event']\n",
    "\n",
    "# Add noisy features\n",
    "random_state = np.random.RandomState(0)\n",
    "n_samples, n_features = X.shape\n",
    "X = np.c_[X, random_state.randn(n_samples, 400 * n_features)]\n",
    "\n",
    "# Limit to the two first classes, and split into training and test\n",
    "X_train, X_test, y_train, y_test = train_test_split(X[y < 2], y[y < 2],\n",
    "                                                    test_size=.5,\n",
    "                                                    random_state=random_state)\n",
    "\n",
    "# Create a simple classifier\n",
    "classifier = svm.LinearSVC(random_state=random_state)\n",
    "classifier.fit(X_train, y_train)\n",
    "y_score = classifier.decision_function(X_test)"
   ]
  },
  {
   "cell_type": "code",
   "execution_count": null,
   "metadata": {
    "ExecuteTime": {
     "end_time": "2019-02-18T03:03:48.569050Z",
     "start_time": "2019-02-18T03:03:36.033Z"
    }
   },
   "outputs": [],
   "source": [
    "from sklearn.metrics import average_precision_score\n",
    "average_precision = average_precision_score(y_test, y_score)\n",
    "\n",
    "print('Average precision-recall score: {0:0.2f}'.format(\n",
    "      average_precision))"
   ]
  },
  {
   "cell_type": "code",
   "execution_count": null,
   "metadata": {
    "ExecuteTime": {
     "end_time": "2019-02-18T03:03:48.571346Z",
     "start_time": "2019-02-18T03:03:36.724Z"
    }
   },
   "outputs": [],
   "source": [
    "from sklearn.metrics import precision_recall_curve\n",
    "import matplotlib.pyplot as plt\n",
    "from sklearn.utils.fixes import signature\n",
    "\n",
    "precision, recall, _ = precision_recall_curve(y_test, y_score)\n",
    "\n",
    "# In matplotlib < 1.5, plt.fill_between does not have a 'step' argument\n",
    "step_kwargs = ({'step': 'post'}\n",
    "               if 'step' in signature(plt.fill_between).parameters\n",
    "               else {})\n",
    "plt.step(recall, precision, color='b', alpha=0.2,\n",
    "         where='post')\n",
    "plt.fill_between(recall, precision, alpha=0.2, color='b', **step_kwargs)\n",
    "\n",
    "plt.xlabel('Recall')\n",
    "plt.ylabel('Precision')\n",
    "plt.ylim([0.0, 1.05])\n",
    "plt.xlim([0.0, 1.0])\n",
    "plt.title('2-class Precision-Recall curve: AP={0:0.2f}'.format(\n",
    "          average_precision))"
   ]
  },
  {
   "cell_type": "markdown",
   "metadata": {},
   "source": [
    "# K-Nearest Neighbors"
   ]
  },
  {
   "cell_type": "markdown",
   "metadata": {},
   "source": [
    "## More variables to SPURS2 dataset"
   ]
  },
  {
   "cell_type": "code",
   "execution_count": 243,
   "metadata": {
    "ExecuteTime": {
     "end_time": "2019-02-18T14:37:45.201278Z",
     "start_time": "2019-02-18T14:37:45.179944Z"
    }
   },
   "outputs": [
    {
     "data": {
      "text/html": [
       "<div>\n",
       "<style scoped>\n",
       "    .dataframe tbody tr th:only-of-type {\n",
       "        vertical-align: middle;\n",
       "    }\n",
       "\n",
       "    .dataframe tbody tr th {\n",
       "        vertical-align: top;\n",
       "    }\n",
       "\n",
       "    .dataframe thead th {\n",
       "        text-align: right;\n",
       "    }\n",
       "</style>\n",
       "<table border=\"1\" class=\"dataframe\">\n",
       "  <thead>\n",
       "    <tr style=\"text-align: right;\">\n",
       "      <th></th>\n",
       "      <th>time</th>\n",
       "      <th>sss</th>\n",
       "      <th>sst</th>\n",
       "      <th>precip</th>\n",
       "      <th>wind_spd</th>\n",
       "      <th>wind_dir</th>\n",
       "      <th>cum_precip3</th>\n",
       "      <th>cum_precip6</th>\n",
       "    </tr>\n",
       "    <tr>\n",
       "      <th>datetime</th>\n",
       "      <th></th>\n",
       "      <th></th>\n",
       "      <th></th>\n",
       "      <th></th>\n",
       "      <th></th>\n",
       "      <th></th>\n",
       "      <th></th>\n",
       "      <th></th>\n",
       "    </tr>\n",
       "  </thead>\n",
       "  <tbody>\n",
       "    <tr>\n",
       "      <th>2016-08-24 02:30:00.000027</th>\n",
       "      <td>736566.104167</td>\n",
       "      <td>32.786</td>\n",
       "      <td>29.973</td>\n",
       "      <td>0.000</td>\n",
       "      <td>1.4993</td>\n",
       "      <td>-35.280</td>\n",
       "      <td>0.000</td>\n",
       "      <td>0.0</td>\n",
       "    </tr>\n",
       "    <tr>\n",
       "      <th>2016-08-24 03:29:59.999973</th>\n",
       "      <td>736566.145833</td>\n",
       "      <td>32.790</td>\n",
       "      <td>30.089</td>\n",
       "      <td>0.000</td>\n",
       "      <td>2.2012</td>\n",
       "      <td>-44.300</td>\n",
       "      <td>0.000</td>\n",
       "      <td>0.0</td>\n",
       "    </tr>\n",
       "    <tr>\n",
       "      <th>2016-08-24 04:30:00.000000</th>\n",
       "      <td>736566.187500</td>\n",
       "      <td>32.628</td>\n",
       "      <td>29.630</td>\n",
       "      <td>10.613</td>\n",
       "      <td>4.6946</td>\n",
       "      <td>-80.636</td>\n",
       "      <td>10.613</td>\n",
       "      <td>0.0</td>\n",
       "    </tr>\n",
       "  </tbody>\n",
       "</table>\n",
       "</div>"
      ],
      "text/plain": [
       "                                     time     sss     sst  precip  wind_spd  \\\n",
       "datetime                                                                      \n",
       "2016-08-24 02:30:00.000027  736566.104167  32.786  29.973   0.000    1.4993   \n",
       "2016-08-24 03:29:59.999973  736566.145833  32.790  30.089   0.000    2.2012   \n",
       "2016-08-24 04:30:00.000000  736566.187500  32.628  29.630  10.613    4.6946   \n",
       "\n",
       "                            wind_dir  cum_precip3  cum_precip6  \n",
       "datetime                                                        \n",
       "2016-08-24 02:30:00.000027   -35.280        0.000          0.0  \n",
       "2016-08-24 03:29:59.999973   -44.300        0.000          0.0  \n",
       "2016-08-24 04:30:00.000000   -80.636       10.613          0.0  "
      ]
     },
     "execution_count": 243,
     "metadata": {},
     "output_type": "execute_result"
    }
   ],
   "source": [
    "spurs2.head(3)"
   ]
  },
  {
   "cell_type": "code",
   "execution_count": 244,
   "metadata": {
    "ExecuteTime": {
     "end_time": "2019-02-18T14:37:45.427940Z",
     "start_time": "2019-02-18T14:37:45.407533Z"
    }
   },
   "outputs": [],
   "source": [
    "spurs2['year'] = pd.DatetimeIndex(spurs2.index).year\n",
    "spurs2['month'] = pd.DatetimeIndex(spurs2.index).month\n",
    "spurs2['day'] = pd.DatetimeIndex(spurs2.index).day\n",
    "spurs2['hour'] = pd.DatetimeIndex(spurs2.index).hour"
   ]
  },
  {
   "cell_type": "code",
   "execution_count": 245,
   "metadata": {
    "ExecuteTime": {
     "end_time": "2019-02-18T14:37:45.663563Z",
     "start_time": "2019-02-18T14:37:45.617725Z"
    }
   },
   "outputs": [],
   "source": [
    "from sklearn.preprocessing import StandardScaler\n",
    "from sklearn.preprocessing import scale\n",
    "\n",
    "sc = StandardScaler()\n",
    "\n",
    "spurs2['pct_change'] = spurs2['sss'].pct_change()\n",
    "spurs2['sst_change'] = spurs2['sst'].pct_change()\n",
    "spurs2['spd_change'] = spurs2['wind_spd'].pct_change()\n",
    "spurs2['dir_change'] = spurs2['wind_dir'].pct_change()\n",
    "\n",
    "scaled = sc.fit_transform(spurs2['sss'].values.reshape(-1,1))\n",
    "scaled2 = sc.fit_transform(spurs2['sst'].values.reshape(-1,1))\n",
    "scaled3 = sc.fit_transform(spurs2['wind_spd'].values.reshape(-1,1))\n",
    "scaled4 = sc.fit_transform(spurs2['wind_dir'].values.reshape(-1,1))\n",
    "spurs2['scaled_sss'] = scaled\n",
    "spurs2['scaled_sst'] = scaled2\n",
    "spurs2['scaled_spd'] = scaled3\n",
    "spurs2['scaled_dir'] = scaled4\n",
    "\n",
    "scaled5 = scale(spurs2['pct_change'])\n",
    "scaled6 = scale(spurs2['spd_change'])\n",
    "scaled7 = scale(spurs2['dir_change'])\n",
    "scaled8 = scale(spurs2['sst_change'])\n",
    "spurs2['pct_c_scaled'] = scaled5\n",
    "spurs2['pct_sst_scaled'] = scaled8\n",
    "spurs2['pct_spd_scaled'] = scaled6\n",
    "spurs2['pct_dir_scaled'] = scaled7\n",
    "\n",
    "spurs2['year'] = pd.DatetimeIndex(spurs2.index).year\n",
    "spurs2['month'] = pd.DatetimeIndex(spurs2.index).month\n",
    "spurs2['day'] = pd.DatetimeIndex(spurs2.index).day\n",
    "spurs2['hour'] = pd.DatetimeIndex(spurs2.index).hour"
   ]
  },
  {
   "cell_type": "code",
   "execution_count": 246,
   "metadata": {
    "ExecuteTime": {
     "end_time": "2019-02-18T14:37:46.319724Z",
     "start_time": "2019-02-18T14:37:46.284789Z"
    },
    "scrolled": true
   },
   "outputs": [
    {
     "data": {
      "text/html": [
       "<div>\n",
       "<style scoped>\n",
       "    .dataframe tbody tr th:only-of-type {\n",
       "        vertical-align: middle;\n",
       "    }\n",
       "\n",
       "    .dataframe tbody tr th {\n",
       "        vertical-align: top;\n",
       "    }\n",
       "\n",
       "    .dataframe thead th {\n",
       "        text-align: right;\n",
       "    }\n",
       "</style>\n",
       "<table border=\"1\" class=\"dataframe\">\n",
       "  <thead>\n",
       "    <tr style=\"text-align: right;\">\n",
       "      <th></th>\n",
       "      <th>time</th>\n",
       "      <th>sss</th>\n",
       "      <th>sst</th>\n",
       "      <th>precip</th>\n",
       "      <th>wind_spd</th>\n",
       "      <th>wind_dir</th>\n",
       "      <th>cum_precip3</th>\n",
       "      <th>cum_precip6</th>\n",
       "      <th>year</th>\n",
       "      <th>month</th>\n",
       "      <th>...</th>\n",
       "      <th>spd_change</th>\n",
       "      <th>dir_change</th>\n",
       "      <th>scaled_sss</th>\n",
       "      <th>scaled_sst</th>\n",
       "      <th>scaled_spd</th>\n",
       "      <th>scaled_dir</th>\n",
       "      <th>pct_c_scaled</th>\n",
       "      <th>pct_sst_scaled</th>\n",
       "      <th>pct_spd_scaled</th>\n",
       "      <th>pct_dir_scaled</th>\n",
       "    </tr>\n",
       "    <tr>\n",
       "      <th>datetime</th>\n",
       "      <th></th>\n",
       "      <th></th>\n",
       "      <th></th>\n",
       "      <th></th>\n",
       "      <th></th>\n",
       "      <th></th>\n",
       "      <th></th>\n",
       "      <th></th>\n",
       "      <th></th>\n",
       "      <th></th>\n",
       "      <th></th>\n",
       "      <th></th>\n",
       "      <th></th>\n",
       "      <th></th>\n",
       "      <th></th>\n",
       "      <th></th>\n",
       "      <th></th>\n",
       "      <th></th>\n",
       "      <th></th>\n",
       "      <th></th>\n",
       "      <th></th>\n",
       "    </tr>\n",
       "  </thead>\n",
       "  <tbody>\n",
       "    <tr>\n",
       "      <th>2016-08-24 02:30:00.000027</th>\n",
       "      <td>736566.104167</td>\n",
       "      <td>32.786</td>\n",
       "      <td>29.973</td>\n",
       "      <td>0.0</td>\n",
       "      <td>1.4993</td>\n",
       "      <td>-35.28</td>\n",
       "      <td>0.0</td>\n",
       "      <td>0.0</td>\n",
       "      <td>2016</td>\n",
       "      <td>8</td>\n",
       "      <td>...</td>\n",
       "      <td>0.0</td>\n",
       "      <td>0.0</td>\n",
       "      <td>-0.95113</td>\n",
       "      <td>3.414139</td>\n",
       "      <td>-1.89932</td>\n",
       "      <td>0.085196</td>\n",
       "      <td>0.0</td>\n",
       "      <td>0.0</td>\n",
       "      <td>0.0</td>\n",
       "      <td>0.0</td>\n",
       "    </tr>\n",
       "  </tbody>\n",
       "</table>\n",
       "<p>1 rows × 24 columns</p>\n",
       "</div>"
      ],
      "text/plain": [
       "                                     time     sss     sst  precip  wind_spd  \\\n",
       "datetime                                                                      \n",
       "2016-08-24 02:30:00.000027  736566.104167  32.786  29.973     0.0    1.4993   \n",
       "\n",
       "                            wind_dir  cum_precip3  cum_precip6  year  month  \\\n",
       "datetime                                                                      \n",
       "2016-08-24 02:30:00.000027    -35.28          0.0          0.0  2016      8   \n",
       "\n",
       "                            ...  spd_change  dir_change  scaled_sss  \\\n",
       "datetime                    ...                                       \n",
       "2016-08-24 02:30:00.000027  ...         0.0         0.0    -0.95113   \n",
       "\n",
       "                            scaled_sst  scaled_spd  scaled_dir  pct_c_scaled  \\\n",
       "datetime                                                                       \n",
       "2016-08-24 02:30:00.000027    3.414139    -1.89932    0.085196           0.0   \n",
       "\n",
       "                            pct_sst_scaled  pct_spd_scaled  pct_dir_scaled  \n",
       "datetime                                                                    \n",
       "2016-08-24 02:30:00.000027             0.0             0.0             0.0  \n",
       "\n",
       "[1 rows x 24 columns]"
      ]
     },
     "execution_count": 246,
     "metadata": {},
     "output_type": "execute_result"
    }
   ],
   "source": [
    "spurs2 = spurs2.fillna(0)\n",
    "spurs2.head(1)"
   ]
  },
  {
   "cell_type": "markdown",
   "metadata": {},
   "source": [
    "## Building the model"
   ]
  },
  {
   "cell_type": "code",
   "execution_count": 247,
   "metadata": {
    "ExecuteTime": {
     "end_time": "2019-02-18T14:37:46.718690Z",
     "start_time": "2019-02-18T14:37:46.697471Z"
    }
   },
   "outputs": [],
   "source": [
    "from sklearn.model_selection import train_test_split\n",
    "\n",
    "X = spurs2.loc[:, ['scaled_sst', 'scaled_spd', 'scaled_dir', 'pct_c_scaled']]\n",
    "y = [1 if i > 2.0 else 0 for i in df2['cum_precip3']]\n",
    "y = pd.DataFrame(y).values\n",
    "\n",
    "X_train, X_test, y_train, y_test = train_test_split(X, y.ravel(), test_size = 0.3, random_state = 0)"
   ]
  },
  {
   "cell_type": "code",
   "execution_count": 248,
   "metadata": {
    "ExecuteTime": {
     "end_time": "2019-02-18T14:37:47.202888Z",
     "start_time": "2019-02-18T14:37:47.177683Z"
    }
   },
   "outputs": [
    {
     "data": {
      "text/plain": [
       "KNeighborsClassifier(algorithm='auto', leaf_size=30, metric='minkowski',\n",
       "           metric_params=None, n_jobs=None, n_neighbors=5, p=2,\n",
       "           weights='uniform')"
      ]
     },
     "execution_count": 248,
     "metadata": {},
     "output_type": "execute_result"
    }
   ],
   "source": [
    "from sklearn.neighbors import KNeighborsClassifier\n",
    "\n",
    "knn = KNeighborsClassifier(n_neighbors=5, metric='minkowski')\n",
    "knn.fit(X_train, y_train)"
   ]
  },
  {
   "cell_type": "code",
   "execution_count": 249,
   "metadata": {
    "ExecuteTime": {
     "end_time": "2019-02-18T18:21:38.051190Z",
     "start_time": "2019-02-18T14:37:47.794737Z"
    }
   },
   "outputs": [],
   "source": [
    "from sklearn.model_selection import StratifiedKFold\n",
    "from sklearn.model_selection import GridSearchCV\n",
    "\n",
    "folds = 3\n",
    "skf = StratifiedKFold(n_splits=folds, shuffle = True, random_state = 1001)\n",
    "parameters = [{'n_neighbors': [1, 2, 3, 5, 10], 'algorithm': ['brute'], 'p': [1, 2], 'n_jobs': [1]},\n",
    "              {'n_neighbors': [1, 2, 3, 5, 10], 'algorithm': ['auto'], 'p': [1, 2], 'n_jobs': [1]}]\n",
    "grid_search = GridSearchCV(estimator = knn, param_grid = parameters,\n",
    "                           scoring = 'recall', cv =10 , n_jobs = 1)\n",
    "grid_search = grid_search.fit(X_train, y_train)"
   ]
  },
  {
   "cell_type": "code",
   "execution_count": 250,
   "metadata": {
    "ExecuteTime": {
     "end_time": "2019-02-18T18:21:38.066817Z",
     "start_time": "2019-02-18T18:21:38.051190Z"
    }
   },
   "outputs": [
    {
     "name": "stdout",
     "output_type": "stream",
     "text": [
      "0.37187036595525014\n",
      "{'algorithm': 'brute', 'n_jobs': 1, 'n_neighbors': 1, 'p': 1}\n",
      "KNeighborsClassifier(algorithm='brute', leaf_size=30, metric='minkowski',\n",
      "           metric_params=None, n_jobs=1, n_neighbors=1, p=1,\n",
      "           weights='uniform')\n"
     ]
    }
   ],
   "source": [
    "best_accuracy = grid_search.best_score_\n",
    "best_parameters = grid_search.best_params_\n",
    "print(best_accuracy)\n",
    "print(best_parameters)\n",
    "print(grid_search.best_estimator_)"
   ]
  },
  {
   "cell_type": "code",
   "execution_count": 251,
   "metadata": {
    "ExecuteTime": {
     "end_time": "2019-02-18T18:21:39.332568Z",
     "start_time": "2019-02-18T18:21:38.066817Z"
    }
   },
   "outputs": [
    {
     "name": "stderr",
     "output_type": "stream",
     "text": [
      "C:\\Users\\jdb3750\\AppData\\Local\\Continuum\\anaconda2\\envs\\ML\\lib\\site-packages\\ipykernel_launcher.py:6: DataConversionWarning: A column-vector y was passed when a 1d array was expected. Please change the shape of y to (n_samples, ), for example using ravel().\n",
      "  \n"
     ]
    },
    {
     "name": "stdout",
     "output_type": "stream",
     "text": [
      "scores [0.38071066 0.36040609 0.34010152 0.37563452]\n",
      "Recall: 0.3642 (+/- 0.03)\n"
     ]
    }
   ],
   "source": [
    "from sklearn.model_selection import cross_val_score\n",
    "\n",
    "knn = KNeighborsClassifier(algorithm='brute', leaf_size=30, metric='minkowski',\n",
    "           metric_params=None, n_jobs=1, n_neighbors=1, p=2,\n",
    "           weights='uniform')\n",
    "knn.fit(X, y)\n",
    "scores=cross_val_score(knn, X_train, y_train, cv=4, scoring=\"recall\")\n",
    "print(\"scores\", scores)\n",
    "print(\"Recall: %0.4f (+/- %0.2f)\" % (scores.mean(), scores.std() * 2))"
   ]
  },
  {
   "cell_type": "code",
   "execution_count": 252,
   "metadata": {
    "ExecuteTime": {
     "end_time": "2019-02-18T18:21:41.443974Z",
     "start_time": "2019-02-18T18:21:39.332568Z"
    }
   },
   "outputs": [
    {
     "name": "stdout",
     "output_type": "stream",
     "text": [
      "[[2822    0]\n",
      " [   0  343]]\n",
      "\n",
      "[[6596    0]\n",
      " [   0  788]]\n"
     ]
    }
   ],
   "source": [
    "from sklearn.metrics import confusion_matrix\n",
    "\n",
    "y_pred = knn.predict(X_test)\n",
    "y_pred2 = knn.predict(X_train)\n",
    "cm = confusion_matrix(y_test, y_pred)\n",
    "cm2 = confusion_matrix(y_train, y_pred2)\n",
    "print(cm)\n",
    "print()\n",
    "print(cm2)"
   ]
  },
  {
   "cell_type": "code",
   "execution_count": 230,
   "metadata": {
    "ExecuteTime": {
     "end_time": "2019-02-18T14:21:29.970181Z",
     "start_time": "2019-02-18T14:21:29.939147Z"
    }
   },
   "outputs": [
    {
     "name": "stdout",
     "output_type": "stream",
     "text": [
      "1.0\n",
      "              precision    recall  f1-score   support\n",
      "\n",
      "           0       1.00      1.00      1.00      2822\n",
      "           1       1.00      1.00      1.00       343\n",
      "\n",
      "   micro avg       1.00      1.00      1.00      3165\n",
      "   macro avg       1.00      1.00      1.00      3165\n",
      "weighted avg       1.00      1.00      1.00      3165\n",
      "\n"
     ]
    }
   ],
   "source": [
    "from sklearn.metrics import f1_score\n",
    "from sklearn.metrics import classification_report\n",
    "\n",
    "print(f1_score(y_test, y_pred))\n",
    "print(classification_report(y_test, y_pred))"
   ]
  },
  {
   "cell_type": "code",
   "execution_count": null,
   "metadata": {},
   "outputs": [],
   "source": []
  }
 ],
 "metadata": {
  "hide_input": false,
  "kernelspec": {
   "display_name": "Python 3",
   "language": "python",
   "name": "python3"
  },
  "language_info": {
   "codemirror_mode": {
    "name": "ipython",
    "version": 3
   },
   "file_extension": ".py",
   "mimetype": "text/x-python",
   "name": "python",
   "nbconvert_exporter": "python",
   "pygments_lexer": "ipython3",
   "version": "3.6.6"
  },
  "toc": {
   "base_numbering": 1,
   "nav_menu": {},
   "number_sections": true,
   "sideBar": true,
   "skip_h1_title": false,
   "title_cell": "Table of Contents",
   "title_sidebar": "Contents",
   "toc_cell": false,
   "toc_position": {
    "height": "calc(100% - 180px)",
    "left": "10px",
    "top": "150px",
    "width": "208.2px"
   },
   "toc_section_display": true,
   "toc_window_display": true
  },
  "varInspector": {
   "cols": {
    "lenName": 16,
    "lenType": 16,
    "lenVar": 40
   },
   "kernels_config": {
    "python": {
     "delete_cmd_postfix": "",
     "delete_cmd_prefix": "del ",
     "library": "var_list.py",
     "varRefreshCmd": "print(var_dic_list())"
    },
    "r": {
     "delete_cmd_postfix": ") ",
     "delete_cmd_prefix": "rm(",
     "library": "var_list.r",
     "varRefreshCmd": "cat(var_dic_list()) "
    }
   },
   "types_to_exclude": [
    "module",
    "function",
    "builtin_function_or_method",
    "instance",
    "_Feature"
   ],
   "window_display": false
  }
 },
 "nbformat": 4,
 "nbformat_minor": 2
}
